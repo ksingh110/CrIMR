{
  "cells": [
    {
      "cell_type": "markdown",
      "metadata": {
        "id": "view-in-github",
        "colab_type": "text"
      },
      "source": [
        "<a href=\"https://colab.research.google.com/github/ksingh110/CrIMR/blob/main/RNN/RNN_IF_Algorithm.ipynb\" target=\"_parent\"><img src=\"https://colab.research.google.com/assets/colab-badge.svg\" alt=\"Open In Colab\"/></a>"
      ]
    },
    {
      "cell_type": "code",
      "execution_count": 1,
      "metadata": {
        "id": "83GkxgfIQc7h"
      },
      "outputs": [],
      "source": [
        "import numpy as np\n",
        "import pandas as pd\n",
        "import os\n",
        "from tensorflow.keras.models import Sequential, load_model\n",
        "from tensorflow.keras.layers import LSTM, Dense, Dropout\n",
        "from tensorflow.keras.callbacks import ModelCheckpoint, CSVLogger\n",
        "from sklearn.model_selection import train_test_split\n",
        "from sklearn.metrics import classification_report\n",
        "from sklearn.metrics import roc_curve, roc_auc_score\n",
        "import tensorflow as tf\n",
        "from sklearn.ensemble import IsolationForest\n",
        "import matplotlib.pyplot as plt\n",
        "from sklearn.metrics import classification_report\n",
        "from sklearn.metrics import roc_curve, roc_auc_score\n",
        "# Reset TensorFlow graph\n",
        "tf.compat.v1.reset_default_graph()"
      ]
    },
    {
      "cell_type": "markdown",
      "metadata": {
        "id": "hXtpL2pKQc7i"
      },
      "source": [
        "Paths and data"
      ]
    },
    {
      "cell_type": "code",
      "execution_count": 2,
      "metadata": {
        "id": "sdQq5widQc7i"
      },
      "outputs": [],
      "source": [
        "checkpoint_path = \"E:/my_models/750_if_new_best_model.h5\"\n",
        "save_path = \"E:/my_plots/750_if_new_prediction_plots/\"\n",
        "mutated_file = \"/content/E__datasets_processeddata_MUTATION_DATA_TRAINING_15000_1.npz\"\n",
        "nonmutated_file = \"/content/E__datasets_processeddata_MUTATION_DATA_TRAINING_15000_1.npz\"\n",
        "mutated_data = np.load(\"/content/E__datasets_processeddata_MUTATION_DATA_TRAINING_15000_1.npz\", allow_pickle=True, mmap_mode='r')\n",
        "nonmutated_data = np.load(\"/content/E__datasets_processeddata_MUTATION_DATA_TRAINING_15000_1.npz\", allow_pickle=True, mmap_mode='r')\n",
        "csv_file = \"cry1realvariations (1).csv\"  # Assuming this CSV contains mutation data for anomaly detection"
      ]
    },
    {
      "cell_type": "markdown",
      "metadata": {
        "id": "VFTuG0NvQc7j"
      },
      "source": [
        "Anomaly detection using Isolation Forest"
      ]
    },
    {
      "cell_type": "code",
      "execution_count": null,
      "metadata": {
        "id": "o9RSjXZVQc7j"
      },
      "outputs": [],
      "source": [
        "def load_and_get_anomaly_scores(csv_file):\n",
        "    df = pd.read_csv(csv_file)\n",
        "\n",
        "    # Assuming the CSV file has columns 'Mutation ID' and 'Allele Frequency'\n",
        "    data_id_array = df['_displayName'].values[:750].reshape(-1, 1)  # Get the first 1000 Mutation IDs\n",
        "    array_data = df['AF'].values[:750].reshape(-1, 1)  # Get the first 1000 Allele Frequencies\n",
        "\n",
        "    # Initialize and fit the Isolation Forest model\n",
        "    clf = IsolationForest(contamination=0.01, random_state=42)\n",
        "    clf.fit(array_data)\n",
        "\n",
        "    # Get anomaly scores and predictions\n",
        "    anomaly_scores = clf.decision_function(array_data)  # Negative scores represent outliers (anomalous)\n",
        "    predictions = clf.predict(array_data)  # -1 for anomaly, 1 for normal\n",
        "\n",
        "    # Invert the anomaly scores (as lower scores indicate anomalies, we invert so higher scores are more \"normal\")\n",
        "    inverted_anomaly_scores = -anomaly_scores\n",
        "\n",
        "    # Filter out NaN values and prepare the data for plotting\n",
        "    valid_indices = ~np.isnan(array_data)\n",
        "    valid_indices = valid_indices.flatten()\n",
        "    data_id_array = data_id_array[valid_indices]\n",
        "    array_data = array_data[valid_indices]\n",
        "    inverted_anomaly_scores = inverted_anomaly_scores[valid_indices]\n",
        "    predictions = predictions[valid_indices]\n",
        "    return inverted_anomaly_scores, data_id_array, array_data, predictions"
      ]
    },
    {
      "cell_type": "markdown",
      "metadata": {
        "id": "YIo0Ntm4Qc7j"
      },
      "source": [
        "Get anomaly scores"
      ]
    },
    {
      "cell_type": "code",
      "execution_count": null,
      "metadata": {
        "id": "T09WczQZQc7j"
      },
      "outputs": [],
      "source": [
        "anomaly_scores, _, _, _ = load_and_get_anomaly_scores(csv_file)\n",
        "def load_data_in_batches(file_path, batch_size=1000):\n",
        "    data = np.load(file_path, allow_pickle=True, mmap_mode='r')\n",
        "    keys = list(data.files)\n",
        "    for i in range(0, len(keys), batch_size):\n",
        "        batch_keys = keys[i:i+batch_size]\n",
        "        batch_data = [data[key] for key in batch_keys]\n",
        "        yield np.array(batch_data)"
      ]
    },
    {
      "cell_type": "markdown",
      "metadata": {
        "id": "zvTcb_ZPQc7j"
      },
      "source": [
        "Function to load sequences and their labels"
      ]
    },
    {
      "cell_type": "code",
      "execution_count": null,
      "metadata": {
        "id": "XAqDxD17Qc7j"
      },
      "outputs": [],
      "source": [
        "def load_sequences(data, label, file_path, batch_size=1000):\n",
        "    encoded_sequences = None\n",
        "    input_shape = None\n",
        "    data_load = load_data_in_batches(file_path, batch_size=batch_size)  # Getting batches\n",
        "\n",
        "    for batch_data in data_load:  # Iterating through the batches\n",
        "        temp_sequences = batch_data  # This is the data for the current batch\n",
        "        print(f\"Batch shape: {temp_sequences.shape}\")  # Debugging\n",
        "\n",
        "        if temp_sequences.ndim == 2:  # If 2D, reshape to 3D for LSTM\n",
        "            temp_sequences = np.expand_dims(temp_sequences, axis=1)  # (samples, 1, features)\n",
        "\n",
        "        if temp_sequences.ndim == 3:\n",
        "            encoded_sequences = temp_sequences\n",
        "            input_shape = (encoded_sequences.shape[1], encoded_sequences.shape[2])\n",
        "            print(f\"Using batch with reshaped shape {encoded_sequences.shape}\")\n",
        "            break\n",
        "        else:\n",
        "            print(f\"Skipping batch: Unexpected shape {temp_sequences.shape}\")\n",
        "\n",
        "    if encoded_sequences is None:\n",
        "        raise ValueError(f\"No valid encoded sequences found in {label} file.\")\n",
        "\n",
        "    return encoded_sequences, input_shape\n"
      ]
    },
    {
      "cell_type": "markdown",
      "metadata": {
        "id": "as5fPxMEQc7k"
      },
      "source": [
        "Load data"
      ]
    },
    {
      "cell_type": "code",
      "execution_count": null,
      "metadata": {
        "id": "BNDWtI4pQc7k"
      },
      "outputs": [],
      "source": [
        "mutated_sequences, input_shape = load_sequences(mutated_data, \"mutated\", mutated_file)\n",
        "nonmutated_sequences, _ = load_sequences(nonmutated_data, \"nonmutated\", nonmutated_file)"
      ]
    },
    {
      "cell_type": "code",
      "execution_count": null,
      "metadata": {
        "id": "iahiovvKQc7k"
      },
      "outputs": [],
      "source": [
        "mutated_labels = np.ones(mutated_sequences.shape[0])  # 1 for mutated\n",
        "nonmutated_labels = np.zeros(nonmutated_sequences.shape[0])  # 0 for non-mutated"
      ]
    },
    {
      "cell_type": "markdown",
      "metadata": {
        "id": "QfHDzl9iQc7k"
      },
      "source": [
        "Step 1: Generate random Mutation IDs for non-mutated data"
      ]
    },
    {
      "cell_type": "code",
      "execution_count": null,
      "metadata": {
        "id": "25nNlt7GQc7k"
      },
      "outputs": [],
      "source": [
        "nonmutated_data_with_ids = np.array([f\"NonMut_{i}\" for i in range(len(nonmutated_data.files))])"
      ]
    },
    {
      "cell_type": "markdown",
      "metadata": {
        "id": "dKT7pzVvQc7k"
      },
      "source": [
        "Step 2: Add noise to the Allele Frequency for the non-mutated data"
      ]
    },
    {
      "cell_type": "code",
      "execution_count": null,
      "metadata": {
        "id": "ssJPT-e8Qc7k"
      },
      "outputs": [],
      "source": [
        "allele_frequency_mutated = pd.read_csv(csv_file)['AF'].values[:750]  # Allele Frequency of mutated data"
      ]
    },
    {
      "cell_type": "markdown",
      "metadata": {
        "id": "1JTeebY3Qc7l"
      },
      "source": [
        "Generate random noise (Gaussian noise with mean 0 and std deviation same as mutated data's AF)"
      ]
    },
    {
      "cell_type": "code",
      "execution_count": null,
      "metadata": {
        "id": "EknyDe9HQc7l"
      },
      "outputs": [],
      "source": [
        "noise = np.random.normal(0, np.std(allele_frequency_mutated), len(nonmutated_data.files))"
      ]
    },
    {
      "cell_type": "markdown",
      "metadata": {
        "id": "TwoWT9v6Qc7l"
      },
      "source": [
        "Add noise to non-mutated allele frequencies (assuming a similar structure in 'nonmutated_data')"
      ]
    },
    {
      "cell_type": "code",
      "execution_count": null,
      "metadata": {
        "id": "6PmpAi8tQc7l"
      },
      "outputs": [],
      "source": [
        "nonmutated_allele_frequency = np.random.normal(np.mean(allele_frequency_mutated), np.std(allele_frequency_mutated), len(nonmutated_data.files))"
      ]
    },
    {
      "cell_type": "markdown",
      "metadata": {
        "id": "JMLU7VYcQc7l"
      },
      "source": [
        "Step 3: Incorporate noise into non-mutated data for Isolation Forest"
      ]
    },
    {
      "cell_type": "code",
      "execution_count": null,
      "metadata": {
        "id": "si4FFx6dQc7l"
      },
      "outputs": [],
      "source": [
        "df_nonmutated_with_noise = pd.DataFrame({\n",
        "    '_displayName': nonmutated_data_with_ids,\n",
        "    'AF': nonmutated_allele_frequency\n",
        "})"
      ]
    },
    {
      "cell_type": "markdown",
      "metadata": {
        "id": "yl_n-2wGQc7l"
      },
      "source": [
        "Step 4: Apply Isolation Forest on non-mutated data"
      ]
    },
    {
      "cell_type": "code",
      "execution_count": null,
      "metadata": {
        "id": "EPIPsDgoQc7l"
      },
      "outputs": [],
      "source": [
        "clf = IsolationForest(contamination=0.01, random_state=42)\n",
        "clf.fit(df_nonmutated_with_noise['AF'].values.reshape(-1, 1))"
      ]
    },
    {
      "cell_type": "markdown",
      "metadata": {
        "id": "-I7UlPhWQc7l"
      },
      "source": [
        "Get anomaly scores and predictions for non-mutated data"
      ]
    },
    {
      "cell_type": "code",
      "execution_count": null,
      "metadata": {
        "id": "Toh8xlhQQc7l"
      },
      "outputs": [],
      "source": [
        "nonmutated_anomaly_scores = clf.decision_function(df_nonmutated_with_noise['AF'].values.reshape(-1, 1))\n",
        "nonmutated_predictions = clf.predict(df_nonmutated_with_noise['AF'].values.reshape(-1, 1))"
      ]
    },
    {
      "cell_type": "markdown",
      "metadata": {
        "id": "rratmviuQc7l"
      },
      "source": [
        "Invert the anomaly scores (lower scores = anomalies)"
      ]
    },
    {
      "cell_type": "code",
      "execution_count": null,
      "metadata": {
        "id": "Gr5GVJZIQc7l"
      },
      "outputs": [],
      "source": [
        "nonmutated_inverted_anomaly_scores = -nonmutated_anomaly_scores"
      ]
    },
    {
      "cell_type": "markdown",
      "metadata": {
        "id": "aFKB8JMYQc7l"
      },
      "source": [
        "Append anomaly scores to features (only for the mutated sequences)"
      ]
    },
    {
      "cell_type": "code",
      "execution_count": null,
      "metadata": {
        "id": "kkeF_APSQc7m"
      },
      "outputs": [],
      "source": [
        "anomaly_scores_reshaped = anomaly_scores[:mutated_sequences.shape[0]].reshape(-1, 1)\n",
        "# Expand anomaly_scores_reshaped to 3D (1000, 1, 1) to match the timesteps axis of X\n",
        "anomaly_scores_reshaped = np.expand_dims(anomaly_scores_reshaped, axis=-1)  # shape (1000, 1, 1)"
      ]
    },
    {
      "cell_type": "markdown",
      "metadata": {
        "id": "3CLrQBkNQc7m"
      },
      "source": [
        "Update the last feature of each sequence with the anomaly score"
      ]
    },
    {
      "cell_type": "code",
      "execution_count": null,
      "metadata": {
        "id": "YFEvb6t7Qc7m"
      },
      "outputs": [],
      "source": [
        "mutated_sequences_with_anomalies = mutated_sequences.copy()  # Make a copy of mutated_sequences\n",
        "mutated_sequences_with_anomalies[:, :, -1:] = anomaly_scores_reshaped  # Replace the last feature with the anomaly score\n",
        "# Concatenate anomaly scores with mutated sequences only"
      ]
    },
    {
      "cell_type": "markdown",
      "metadata": {
        "id": "g5GmeJklQc7m"
      },
      "source": [
        "Concatenate the mutated and non-mutated sequences (with anomalies added to mutated)"
      ]
    },
    {
      "cell_type": "code",
      "execution_count": null,
      "metadata": {
        "id": "OqxP6tycQc7m"
      },
      "outputs": [],
      "source": [
        "X_with_anomalies = np.concatenate([mutated_sequences_with_anomalies, nonmutated_sequences], axis=0)\n",
        "y = np.concatenate([mutated_labels, nonmutated_labels], axis=0)"
      ]
    },
    {
      "cell_type": "code",
      "execution_count": null,
      "metadata": {
        "id": "Sudu4Y5zQc7m"
      },
      "outputs": [],
      "source": [
        "x_train, x_test, y_train, y_test = train_test_split(X_with_anomalies, y, random_state=42, test_size=0.2, stratify=y)"
      ]
    },
    {
      "cell_type": "markdown",
      "metadata": {
        "id": "feTxpb44Qc7m"
      },
      "source": [
        "RNN Model"
      ]
    },
    {
      "cell_type": "code",
      "execution_count": null,
      "metadata": {
        "id": "R4Z2pPqnQc7m"
      },
      "outputs": [],
      "source": [
        "def rnn_model(input_shape):\n",
        "    model = Sequential([\n",
        "        LSTM(32, input_shape=input_shape, return_sequences=False, activation=\"relu\"),\n",
        "        Dropout(0.5),\n",
        "        Dense(1, activation='sigmoid', kernel_regularizer=tf.keras.regularizers.l2(0.01))\n",
        "    ])\n",
        "    model.compile(optimizer=\"adamw\", loss='binary_crossentropy', metrics=['accuracy'])\n",
        "    return model"
      ]
    },
    {
      "cell_type": "code",
      "execution_count": null,
      "metadata": {
        "id": "_vug8AfrQc7m"
      },
      "outputs": [],
      "source": [
        "def reset_rnn(input_shape):\n",
        "    # Recreate the model to reset weights\n",
        "    model = rnn_model(input_shape)\n",
        "    return model"
      ]
    },
    {
      "cell_type": "markdown",
      "metadata": {
        "id": "kcbBuiapQc7m"
      },
      "source": [
        "Plotting function"
      ]
    },
    {
      "cell_type": "code",
      "execution_count": null,
      "metadata": {
        "id": "LFLJQPeSQc7q"
      },
      "outputs": [],
      "source": [
        "def plot_learning_curve(history, save_path):\n",
        "    # Extract training and validation loss (or accuracy)\n",
        "    training_loss = history.history['loss']\n",
        "    validation_loss = history.history['val_loss']\n",
        "    training_acc = history.history['accuracy']\n",
        "    validation_acc = history.history['val_accuracy']\n",
        "    epochs = range(1, len(training_loss) + 1)\n",
        "\n",
        "    # Plot loss curves\n",
        "    plt.figure(figsize=(12, 6))\n",
        "\n",
        "    # Loss plot\n",
        "    plt.subplot(1, 2, 1)\n",
        "    plt.plot(epochs, training_loss, label='Training Loss')\n",
        "    plt.plot(epochs, validation_loss, label='Validation Loss')\n",
        "    plt.title('Loss Curve')\n",
        "    plt.xlabel('Epochs')\n",
        "    plt.ylabel('Loss')\n",
        "    plt.legend()\n",
        "\n",
        "    # Accuracy plot\n",
        "    plt.subplot(1, 2, 2)\n",
        "    plt.plot(epochs, training_acc, label='Training Accuracy')\n",
        "    plt.plot(epochs, validation_acc, label='Validation Accuracy')\n",
        "    plt.title('Accuracy Curve')\n",
        "    plt.xlabel('Epochs')\n",
        "    plt.ylabel('Accuracy')\n",
        "    plt.legend()\n",
        "    plt.tight_layout()\n",
        "    plt.savefig(save_path)"
      ]
    },
    {
      "cell_type": "markdown",
      "metadata": {
        "id": "RAugG9NjQc7q"
      },
      "source": [
        "Reset model"
      ]
    },
    {
      "cell_type": "code",
      "execution_count": null,
      "metadata": {
        "id": "uZLbWioKQc7q"
      },
      "outputs": [],
      "source": [
        "model = reset_rnn(input_shape)"
      ]
    },
    {
      "cell_type": "markdown",
      "metadata": {
        "id": "yQcWTJbnQc7q"
      },
      "source": [
        "Checkpoints and logging"
      ]
    },
    {
      "cell_type": "code",
      "execution_count": null,
      "metadata": {
        "id": "Y0RJcDNcQc7q"
      },
      "outputs": [],
      "source": [
        "checkpoint = ModelCheckpoint(checkpoint_path, monitor=\"val_loss\", save_best_only=True, mode=\"min\")\n",
        "csv_log = CSVLogger(\"training_log_new_750_if.csv\", append=True)"
      ]
    },
    {
      "cell_type": "markdown",
      "metadata": {
        "id": "ss9sIuP5Qc7q"
      },
      "source": [
        "Fit the model"
      ]
    },
    {
      "cell_type": "code",
      "execution_count": null,
      "metadata": {
        "id": "tnBGhTI0Qc7q"
      },
      "outputs": [],
      "source": [
        "rnn_fit = model.fit(x_train, y_train, batch_size=16, epochs=20, verbose=1, validation_data=(x_test, y_test), callbacks=[csv_log, checkpoint])"
      ]
    },
    {
      "cell_type": "markdown",
      "metadata": {
        "id": "w5fiBMzDQc7r"
      },
      "source": [
        "Evaluate the model"
      ]
    },
    {
      "cell_type": "code",
      "execution_count": null,
      "metadata": {
        "id": "460wFmC4Qc7r"
      },
      "outputs": [],
      "source": [
        "loss, accuracy = model.evaluate(x_test, y_test)\n",
        "print(f\"Test Accuracy: {accuracy:.4f}\")"
      ]
    },
    {
      "cell_type": "markdown",
      "metadata": {
        "id": "bX3SrCo0Qc7r"
      },
      "source": [
        "Predictions"
      ]
    },
    {
      "cell_type": "code",
      "execution_count": null,
      "metadata": {
        "id": "57HjQF1oQc7r"
      },
      "outputs": [],
      "source": [
        "predictions = model.predict(x_test).flatten()\n",
        "print(\"\\nðŸ”¹ First 10 Predictions vs Actual Values ðŸ”¹\")\n",
        "for i in range(10):\n",
        "    print(f\"Sample {i+1}: Actual = {y_test[i]}, Predicted Probability = {predictions[i]:.4f}\")"
      ]
    },
    {
      "cell_type": "markdown",
      "metadata": {
        "id": "bWgtNkELQc7r"
      },
      "source": [
        "Save plots"
      ]
    },
    {
      "cell_type": "code",
      "execution_count": null,
      "metadata": {
        "id": "LkamU7kdQc7r"
      },
      "outputs": [],
      "source": [
        "os.makedirs(save_path, exist_ok=True)"
      ]
    },
    {
      "cell_type": "markdown",
      "metadata": {
        "id": "JW9OZ7QtQc7r"
      },
      "source": [
        "Histogram of predictions"
      ]
    },
    {
      "cell_type": "code",
      "execution_count": null,
      "metadata": {
        "id": "wKLjHX8KQc7r"
      },
      "outputs": [],
      "source": [
        "plt.figure(figsize=(14, 10))\n",
        "plt.hist(predictions, bins=20, edgecolor='black', alpha=0.7)\n",
        "plt.xlabel(\"Predicted Probability\")\n",
        "plt.ylabel(\"Count\")\n",
        "plt.title(\"Distribution of Predicted Probabilities\")\n",
        "plt.savefig(save_path + \"histogram_predictions.png\")\n",
        "plt.show()"
      ]
    },
    {
      "cell_type": "markdown",
      "metadata": {
        "id": "4zkDDvDYQc7r"
      },
      "source": [
        "Calculate the ROC curve and AUC"
      ]
    },
    {
      "cell_type": "code",
      "execution_count": null,
      "metadata": {
        "id": "sQ1MSUmQQc7s"
      },
      "outputs": [],
      "source": [
        "fpr, tpr, thresholds = roc_curve(y_test, predictions)\n",
        "roc_auc = roc_auc_score(y_test, predictions)"
      ]
    },
    {
      "cell_type": "markdown",
      "metadata": {
        "id": "LWVRg52cQc7s"
      },
      "source": [
        "Plot ROC curve"
      ]
    },
    {
      "cell_type": "code",
      "execution_count": null,
      "metadata": {
        "id": "QP7GCP1dQc7s"
      },
      "outputs": [],
      "source": [
        "plt.figure(figsize=(8, 6))\n",
        "plt.plot(fpr, tpr, color='blue', label=f'ROC curve (AUC = {roc_auc:.4f})')\n",
        "plt.plot([0, 1], [0, 1], color='gray', linestyle='--')\n",
        "plt.xlabel('False Positive Rate')\n",
        "plt.ylabel('True Positive Rate')\n",
        "plt.title('ROC Curve')\n",
        "plt.legend(loc='lower right')\n",
        "plt.savefig(save_path + \"750_new_if_roc_curve.png\")"
      ]
    },
    {
      "cell_type": "code",
      "execution_count": null,
      "metadata": {
        "id": "vDVz0KGHQc7s"
      },
      "outputs": [],
      "source": [
        "print(f\"Area Under the Curve (AUC): {roc_auc:.4f}\")"
      ]
    },
    {
      "cell_type": "markdown",
      "metadata": {
        "id": "dMVH4r8BQc7s"
      },
      "source": [
        "Classification report"
      ]
    },
    {
      "cell_type": "code",
      "execution_count": null,
      "metadata": {
        "id": "rJQDdFlbQc7s"
      },
      "outputs": [],
      "source": [
        "report = classification_report(y_test, (predictions > 0.5).astype(int))\n",
        "print(\"\\nClassification Report:\" + report)\n",
        "report = classification_report(y_test, (predictions > 0.5).astype(int), output_dict=True)"
      ]
    },
    {
      "cell_type": "markdown",
      "metadata": {
        "id": "8gylJHe3Qc7s"
      },
      "source": [
        "Convert the dictionary into a DataFrame and transpose it"
      ]
    },
    {
      "cell_type": "code",
      "execution_count": null,
      "metadata": {
        "id": "QWEzFpicQc7s"
      },
      "outputs": [],
      "source": [
        "report_df = pd.DataFrame(report).transpose()"
      ]
    },
    {
      "cell_type": "markdown",
      "metadata": {
        "id": "RNGI5bZaQc7s"
      },
      "source": [
        "Save the report to a CSV file"
      ]
    },
    {
      "cell_type": "code",
      "execution_count": null,
      "metadata": {
        "id": "dZzw2mZqQc7s"
      },
      "outputs": [],
      "source": [
        "report_df.to_csv(\"750_new_if_classification_report.csv\")"
      ]
    },
    {
      "cell_type": "markdown",
      "metadata": {
        "id": "k6djDQ9gQc7s"
      },
      "source": [
        "Plot learning curves"
      ]
    },
    {
      "cell_type": "code",
      "execution_count": null,
      "metadata": {
        "id": "1ceb5uuDQc7t"
      },
      "outputs": [],
      "source": [
        "plot_learning_curve(rnn_fit, save_path=\"750_new_if_learning_curve\")"
      ]
    }
  ],
  "metadata": {
    "kernelspec": {
      "display_name": "Python 3",
      "name": "python3"
    },
    "language_info": {
      "codemirror_mode": {
        "name": "ipython",
        "version": 3
      },
      "file_extension": ".py",
      "mimetype": "text/x-python",
      "name": "python",
      "nbconvert_exporter": "python",
      "pygments_lexer": "ipython3",
      "version": "3.6.4"
    },
    "colab": {
      "provenance": [],
      "machine_shape": "hm",
      "gpuType": "A100",
      "include_colab_link": true
    },
    "accelerator": "GPU"
  },
  "nbformat": 4,
  "nbformat_minor": 0
}