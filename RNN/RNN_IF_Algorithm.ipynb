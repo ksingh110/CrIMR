{
  "cells": [
    {
      "cell_type": "code",
      "source": [
        "import numpy as np\n",
        "import pandas as pd\n",
        "from sklearn.model_selection import train_test_split\n",
        "from sklearn.ensemble import IsolationForest\n",
        "from sklearn.mixture import GaussianMixture\n",
        "from sklearn.utils import shuffle\n",
        "import tensorflow as tf\n",
        "import os\n",
        "from tensorflow.keras.models import Sequential\n",
        "from tensorflow.keras.layers import LSTM, Dense, Dropout\n",
        "from tensorflow.keras.callbacks import ModelCheckpoint, CSVLogger\n",
        "from sklearn.metrics import classification_report\n",
        "from sklearn.metrics import roc_curve, roc_auc_score\n",
        "import matplotlib.pyplot as plt\n",
        "\n",
        "# Paths and data\n",
        "mutated_data = np.load(\"/content/MUTATION_DATA_TRAINING_6000.npz\", allow_pickle=True, mmap_mode='r')\n",
        "nonmutated_data = np.load(\"/content/EAUGMENTED_DATA_TRAINING_6000.npz\", allow_pickle=True, mmap_mode='r')\n",
        "csv_file = \"cry1realvariations (1).csv\"  # CSV with mutation data\n",
        "\n",
        "# Load sequences function\n",
        "def load_sequences(data):\n",
        "    encoded_sequences = None\n",
        "    for key in data.files:\n",
        "        temp_sequences = data[key]\n",
        "        if temp_sequences.ndim == 2:  # If 2D, reshape to 3D for LSTM\n",
        "            temp_sequences = np.expand_dims(temp_sequences, axis=1)  # (samples, 1, features)\n",
        "        if temp_sequences.ndim == 3:\n",
        "            encoded_sequences = temp_sequences\n",
        "            input_shape = input_shape=(encoded_sequences.shape[1], encoded_sequences.shape[2])\n",
        "            break\n",
        "    return encoded_sequences, input_shape\n",
        "\n",
        "# Load mutated and non-mutated sequences\n",
        "mutated_sequences, shape = load_sequences(mutated_data)\n",
        "nonmutated_sequences, shape = load_sequences(nonmutated_data)\n",
        "\n",
        "# Labels\n",
        "mutated_labels = np.ones(mutated_sequences.shape[0])  # 1 for mutated\n",
        "nonmutated_labels = np.zeros(nonmutated_sequences.shape[0])  # 0 for non-mutated\n",
        "\n",
        "# Step 1: Split data into train, validation, and test sets\n",
        "X_mutated_train, X_mutated_temp, y_mutated_train, y_mutated_temp = train_test_split(\n",
        "    mutated_sequences, mutated_labels, test_size=0.25, random_state=42)  # 60% train, 40% temp\n",
        "X_nonmutated_train, X_nonmutated_temp, y_nonmutated_train, y_nonmutated_temp = train_test_split(\n",
        "    nonmutated_sequences, nonmutated_labels, test_size=0.25, random_state=42)  # 60% train, 40% temp\n",
        "\n",
        "# Split temp into validation and test sets (50% validation, 50% test)\n",
        "X_mutated_val, X_mutated_test, y_mutated_val, y_mutated_test = train_test_split(\n",
        "    X_mutated_temp, y_mutated_temp, test_size=0.5, random_state=42)  # 50% validation, 50% test\n",
        "X_nonmutated_val, X_nonmutated_test, y_nonmutated_val, y_nonmutated_test = train_test_split(\n",
        "    X_nonmutated_temp, y_nonmutated_temp, test_size=0.5, random_state=42)  # 50% validation, 50% test\n",
        "\n",
        "# Combine mutated and non-mutated data for training, validation, and testing\n",
        "X_train = np.concatenate([X_mutated_train, X_nonmutated_train], axis=0)\n",
        "y_train = np.concatenate([y_mutated_train, y_nonmutated_train], axis=0)\n",
        "\n",
        "X_val = np.concatenate([X_mutated_val, X_nonmutated_val], axis=0)\n",
        "y_val = np.concatenate([y_mutated_val, y_nonmutated_val], axis=0)\n",
        "\n",
        "X_test = np.concatenate([X_mutated_test, X_nonmutated_test], axis=0)\n",
        "y_test = np.concatenate([y_mutated_test, y_nonmutated_test], axis=0)\n",
        "\n",
        "# Shuffle data (for randomness)\n",
        "X_train, y_train = shuffle(X_train, y_train, random_state=42)\n",
        "X_val, y_val = shuffle(X_val, y_val, random_state=42)\n",
        "X_test, y_test = shuffle(X_test, y_test, random_state=42)\n",
        "\n"
      ],
      "metadata": {
        "id": "MtMHBJ4naiI5"
      },
      "execution_count": 9,
      "outputs": []
    },
    {
      "cell_type": "code",
      "source": [
        "\n",
        "# Add Isolation Forest anomaly scores for mutated data and Gaussian Mixture anomaly scores for non-mutated data\n",
        "def get_isolation_forest_scores(X_train):\n",
        "    # Flatten data for anomaly detection (to use in Isolation Forest)\n",
        "    flattened_train = X_train.reshape(X_train.shape[0], -1)  # Flatten to 2D\n",
        "\n",
        "    clf = IsolationForest(contamination=0.01, random_state=42)\n",
        "    clf.fit(flattened_train)  # Train on the training data\n",
        "\n",
        "    # Get anomaly scores for training data\n",
        "    anomaly_scores_train = clf.decision_function(flattened_train)\n",
        "    inverted_anomaly_scores_train = -anomaly_scores_train  # Invert so higher scores mean more \"normal\"\n",
        "\n",
        "    return inverted_anomaly_scores_train, clf\n",
        "\n",
        "def get_gaussian_scores(X_train):\n",
        "    # Flatten data for anomaly detection (for Gaussian Mixture)\n",
        "    flattened_train = X_train.reshape(X_train.shape[0], -1)  # Flatten to 2D\n",
        "\n",
        "    # Fit Gaussian Mixture Model\n",
        "    gmm = GaussianMixture(n_components=2, random_state=42)\n",
        "    gmm.fit(flattened_train)\n",
        "\n",
        "    # Get anomaly scores for training data (lower scores mean more \"normal\")\n",
        "    anomaly_scores_train = gmm.score_samples(flattened_train)\n",
        "\n",
        "    # We want higher scores to be more \"normal\", so we invert the scores\n",
        "    inverted_anomaly_scores_train = -anomaly_scores_train\n",
        "\n",
        "    return inverted_anomaly_scores_train, gmm\n",
        "\n",
        "# Get anomaly scores for both mutated (Isolation Forest) and non-mutated (Gaussian Mixture)\n",
        "anomaly_scores_mutated, clf = get_isolation_forest_scores(X_train)\n",
        "anomaly_scores_nonmutated, gmm = get_gaussian_scores(X_train)\n",
        "\n",
        "# Add anomaly scores to the training data (reshape to 3D for LSTM)\n",
        "anomaly_scores_mutated_reshaped = anomaly_scores_mutated.reshape(-1, 1, 1)  # Shape (samples, 1, 1)\n",
        "anomaly_scores_nonmutated_reshaped = anomaly_scores_nonmutated.reshape(-1, 1, 1)  # Shape (samples, 1, 1)\n",
        "\n",
        "# Add anomaly scores as features to training data\n",
        "X_train_with_anomalies = np.concatenate([X_train, anomaly_scores_mutated_reshaped, anomaly_scores_nonmutated_reshaped], axis=-1)\n",
        "\n",
        "# Step 4: Apply the trained model on the test data (without leaking data)\n",
        "def get_test_isolation_forest_scores(X_test, clf):\n",
        "    flattened_test = X_test.reshape(X_test.shape[0], -1)  # Flatten to 2D\n",
        "    anomaly_scores_test = clf.decision_function(flattened_test)\n",
        "    inverted_anomaly_scores_test = -anomaly_scores_test  # Invert scores\n",
        "    return inverted_anomaly_scores_test\n",
        "\n",
        "def get_test_gaussian_scores(X_test, gmm):\n",
        "    flattened_test = X_test.reshape(X_test.shape[0], -1)  # Flatten to 2D\n",
        "    anomaly_scores_test = gmm.score_samples(flattened_test)\n",
        "    inverted_anomaly_scores_test = -anomaly_scores_test  # Invert scores\n",
        "    return inverted_anomaly_scores_test"
      ],
      "metadata": {
        "id": "eUONJ-bHa8nJ"
      },
      "execution_count": null,
      "outputs": []
    },
    {
      "cell_type": "code",
      "source": [
        "checkpoint_path = \"E:/my_models/750_if_new_best_model.weights.h5\""
      ],
      "metadata": {
        "id": "BCsX8brQdiHB"
      },
      "execution_count": null,
      "outputs": []
    },
    {
      "cell_type": "code",
      "source": [],
      "metadata": {
        "id": "fuMvCck7oj2Q"
      },
      "execution_count": null,
      "outputs": []
    },
    {
      "cell_type": "code",
      "source": [
        "\n",
        "# Get test anomaly scores for both models\n",
        "anomaly_scores_mutated_test = get_test_isolation_forest_scores(X_test, clf)\n",
        "anomaly_scores_nonmutated_test = get_test_gaussian_scores(X_test, gmm)\n",
        "\n",
        "# Add anomaly scores to the test data (reshape to 3D)\n",
        "anomaly_scores_mutated_test_reshaped = anomaly_scores_mutated_test.reshape(-1, 1, 1)  # Shape (samples, 1, 1)\n",
        "anomaly_scores_nonmutated_test_reshaped = anomaly_scores_nonmutated_test.reshape(-1, 1, 1)  # Shape (samples, 1, 1)\n",
        "\n",
        "# Add anomaly scores to the test data sequences\n",
        "X_test_with_anomalies = np.concatenate([X_test, anomaly_scores_mutated_test_reshaped, anomaly_scores_nonmutated_test_reshaped], axis=-1)\n",
        "\n",
        "# RNN Model\n",
        "def rnn_model(input_shape):\n",
        "    model = Sequential([\n",
        "        LSTM(64, input_shape=input_shape, return_sequences=True, activation=\"relu\"),\n",
        "        Dropout(0.3),  # First dropout layer\n",
        "\n",
        "        LSTM(32, activation=\"relu\", return_sequences=False),\n",
        "        Dropout(0.3),  # Second dropout layer\n",
        "\n",
        "        Dense(16, activation=\"relu\"),\n",
        "        Dropout(0.3),  # Third dropout layer\n",
        "\n",
        "        Dense(1, activation=\"sigmoid\", kernel_regularizer=tf.keras.regularizers.l2(0.01))  # Output layer\n",
        "    ])\n",
        "\n",
        "    model.compile(optimizer=\"adam\", loss=\"binary_crossentropy\", metrics=[\"accuracy\"])\n",
        "    return model\n",
        "\n",
        "# Train the model\n",
        "checkpoint_path = \"E:/my_models/750_if_new_best_model.weights.h5\"\n",
        "model = rnn_model(shape)\n",
        "checkpoint = ModelCheckpoint(checkpoint_path, save_best_only=True, save_weights_only=True, verbose=1)\n",
        "csv_logger = CSVLogger(\"training_log_6000.csv\")\n",
        "\n",
        "history = model.fit(X_train_with_anomalies, y_train, epochs=20, batch_size=64, validation_data=(X_val, y_val),\n",
        "                    callbacks=[checkpoint, csv_logger])\n",
        "\n",
        "# Evaluate the model\n",
        "y_pred = model.predict(X_test_with_anomalies)\n",
        "y_pred_classes = (y_pred > 0.5).astype(\"int32\")\n",
        "\n",
        "# Evaluate model performance\n",
        "print(classification_report(y_test, y_pred_classes))\n",
        "roc_auc = roc_auc_score(y_test, y_pred)\n",
        "print(f\"ROC-AUC: {roc_auc}\")\n",
        "\n",
        "# Plot ROC curve\n",
        "fpr, tpr, _ = roc_curve(y_test, y_pred)\n",
        "plt.figure(figsize=(8, 6))\n",
        "plt.plot(fpr, tpr, color=\"blue\", label=f\"ROC curve (AUC = {roc_auc:.2f})\")\n",
        "plt.plot([0, 1], [0, 1], color=\"gray\", linestyle=\"--\")\n",
        "plt.xlabel(\"False Positive Rate\")\n",
        "plt.ylabel(\"True Positive Rate\")\n",
        "plt.title(\"Receiver Operating Characteristic Curve\")\n",
        "plt.legend(loc=\"lower right\")\n",
        "plt.show()\n",
        "\n",
        "# Save the model\n",
        "model.save(\"mutation_detection_model.h5\")\n"
      ],
      "metadata": {
        "id": "_h56cAHcbDY7",
        "colab": {
          "base_uri": "https://localhost:8080/",
          "height": 564
        },
        "outputId": "60c2e323-79d7-4be5-e3c5-272782f0d06e"
      },
      "execution_count": 6,
      "outputs": [
        {
          "output_type": "stream",
          "name": "stdout",
          "text": [
            "Epoch 1/20\n",
            "\u001b[1m113/113\u001b[0m \u001b[32m━━━━━━━━━━━━━━━━━━━━\u001b[0m\u001b[37m\u001b[0m \u001b[1m0s\u001b[0m 716ms/step - accuracy: 0.5626 - loss: 10.1749"
          ]
        },
        {
          "output_type": "error",
          "ename": "ValueError",
          "evalue": "Exception encountered when calling LSTMCell.call().\n\n\u001b[1mDimensions must be equal, but are 410000 and 410001 for '{{node sequential_2_1/lstm_4_1/lstm_cell_1/MatMul}} = MatMul[T=DT_FLOAT, grad_a=false, grad_b=false, transpose_a=false, transpose_b=false](sequential_2_1/lstm_4_1/strided_slice_2, sequential_2_1/lstm_4_1/lstm_cell_1/Cast/ReadVariableOp)' with input shapes: [?,410000], [410001,256].\u001b[0m\n\nArguments received by LSTMCell.call():\n  • inputs=tf.Tensor(shape=(None, 410000), dtype=float32)\n  • states=('tf.Tensor(shape=(None, 64), dtype=float32)', 'tf.Tensor(shape=(None, 64), dtype=float32)')\n  • training=False",
          "traceback": [
            "\u001b[0;31m---------------------------------------------------------------------------\u001b[0m",
            "\u001b[0;31mValueError\u001b[0m                                Traceback (most recent call last)",
            "\u001b[0;32m<ipython-input-6-7900ad721356>\u001b[0m in \u001b[0;36m<cell line: 27>\u001b[0;34m()\u001b[0m\n\u001b[1;32m     25\u001b[0m \u001b[0mcsv_logger\u001b[0m \u001b[0;34m=\u001b[0m \u001b[0mCSVLogger\u001b[0m\u001b[0;34m(\u001b[0m\u001b[0;34m\"training_log_6000.csv\"\u001b[0m\u001b[0;34m)\u001b[0m\u001b[0;34m\u001b[0m\u001b[0;34m\u001b[0m\u001b[0m\n\u001b[1;32m     26\u001b[0m \u001b[0;34m\u001b[0m\u001b[0m\n\u001b[0;32m---> 27\u001b[0;31m history = model.fit(X_train_with_anomalies, y_train, epochs=20, batch_size=64, validation_data=(X_val, y_val),\n\u001b[0m\u001b[1;32m     28\u001b[0m                     callbacks=[checkpoint, csv_logger])\n\u001b[1;32m     29\u001b[0m \u001b[0;34m\u001b[0m\u001b[0m\n",
            "\u001b[0;32m/usr/local/lib/python3.10/dist-packages/keras/src/utils/traceback_utils.py\u001b[0m in \u001b[0;36merror_handler\u001b[0;34m(*args, **kwargs)\u001b[0m\n\u001b[1;32m    120\u001b[0m             \u001b[0;31m# To get the full stack trace, call:\u001b[0m\u001b[0;34m\u001b[0m\u001b[0;34m\u001b[0m\u001b[0m\n\u001b[1;32m    121\u001b[0m             \u001b[0;31m# `keras.config.disable_traceback_filtering()`\u001b[0m\u001b[0;34m\u001b[0m\u001b[0;34m\u001b[0m\u001b[0m\n\u001b[0;32m--> 122\u001b[0;31m             \u001b[0;32mraise\u001b[0m \u001b[0me\u001b[0m\u001b[0;34m.\u001b[0m\u001b[0mwith_traceback\u001b[0m\u001b[0;34m(\u001b[0m\u001b[0mfiltered_tb\u001b[0m\u001b[0;34m)\u001b[0m \u001b[0;32mfrom\u001b[0m \u001b[0;32mNone\u001b[0m\u001b[0;34m\u001b[0m\u001b[0;34m\u001b[0m\u001b[0m\n\u001b[0m\u001b[1;32m    123\u001b[0m         \u001b[0;32mfinally\u001b[0m\u001b[0;34m:\u001b[0m\u001b[0;34m\u001b[0m\u001b[0;34m\u001b[0m\u001b[0m\n\u001b[1;32m    124\u001b[0m             \u001b[0;32mdel\u001b[0m \u001b[0mfiltered_tb\u001b[0m\u001b[0;34m\u001b[0m\u001b[0;34m\u001b[0m\u001b[0m\n",
            "\u001b[0;32m/usr/local/lib/python3.10/dist-packages/keras/src/utils/traceback_utils.py\u001b[0m in \u001b[0;36merror_handler\u001b[0;34m(*args, **kwargs)\u001b[0m\n\u001b[1;32m    120\u001b[0m             \u001b[0;31m# To get the full stack trace, call:\u001b[0m\u001b[0;34m\u001b[0m\u001b[0;34m\u001b[0m\u001b[0m\n\u001b[1;32m    121\u001b[0m             \u001b[0;31m# `keras.config.disable_traceback_filtering()`\u001b[0m\u001b[0;34m\u001b[0m\u001b[0;34m\u001b[0m\u001b[0m\n\u001b[0;32m--> 122\u001b[0;31m             \u001b[0;32mraise\u001b[0m \u001b[0me\u001b[0m\u001b[0;34m.\u001b[0m\u001b[0mwith_traceback\u001b[0m\u001b[0;34m(\u001b[0m\u001b[0mfiltered_tb\u001b[0m\u001b[0;34m)\u001b[0m \u001b[0;32mfrom\u001b[0m \u001b[0;32mNone\u001b[0m\u001b[0;34m\u001b[0m\u001b[0;34m\u001b[0m\u001b[0m\n\u001b[0m\u001b[1;32m    123\u001b[0m         \u001b[0;32mfinally\u001b[0m\u001b[0;34m:\u001b[0m\u001b[0;34m\u001b[0m\u001b[0;34m\u001b[0m\u001b[0m\n\u001b[1;32m    124\u001b[0m             \u001b[0;32mdel\u001b[0m \u001b[0mfiltered_tb\u001b[0m\u001b[0;34m\u001b[0m\u001b[0;34m\u001b[0m\u001b[0m\n",
            "\u001b[0;31mValueError\u001b[0m: Exception encountered when calling LSTMCell.call().\n\n\u001b[1mDimensions must be equal, but are 410000 and 410001 for '{{node sequential_2_1/lstm_4_1/lstm_cell_1/MatMul}} = MatMul[T=DT_FLOAT, grad_a=false, grad_b=false, transpose_a=false, transpose_b=false](sequential_2_1/lstm_4_1/strided_slice_2, sequential_2_1/lstm_4_1/lstm_cell_1/Cast/ReadVariableOp)' with input shapes: [?,410000], [410001,256].\u001b[0m\n\nArguments received by LSTMCell.call():\n  • inputs=tf.Tensor(shape=(None, 410000), dtype=float32)\n  • states=('tf.Tensor(shape=(None, 64), dtype=float32)', 'tf.Tensor(shape=(None, 64), dtype=float32)')\n  • training=False"
          ]
        }
      ]
    },
    {
      "cell_type": "code",
      "source": [
        "loss, accuracy = model.evaluate(x_test, y_test)\n",
        "print(f\"Test Accuracy: {accuracy:.4f}\")\n",
        "\n",
        "# Predictions\n",
        "predictions = model.predict(x_test).flatten()\n",
        "print(\"\\n🔹 First 10 Predictions vs Actual Values 🔹\")\n",
        "for i in range(10):\n",
        "    print(f\"Sample {i+1}: Actual = {y_test[i]}, Predicted Probability = {predictions[i]:.4f}\")\n",
        "\n",
        "# Save plots\n",
        "os.makedirs(save_path, exist_ok=True)\n",
        "\n",
        "# Histogram of predictions\n",
        "plt.figure(figsize=(14, 10))\n",
        "plt.hist(predictions, bins=20, edgecolor='black', alpha=0.7)\n",
        "plt.xlabel(\"Predicted Probability\")\n",
        "plt.ylabel(\"Count\")\n",
        "plt.title(\"Distribution of Predicted Probabilities\")\n",
        "plt.savefig(save_path + \"histogram_predictions.png\")\n",
        "plt.show()\n",
        "\n",
        "# Calculate the ROC curve and AUC\n",
        "fpr, tpr, thresholds = roc_curve(y_test, predictions)\n",
        "roc_auc = roc_auc_score(y_test, predictions)\n",
        "\n",
        "# Plot ROC curve\n",
        "plt.figure(figsize=(8, 6))\n",
        "plt.plot(fpr, tpr, color='blue', label=f'ROC curve (AUC = {roc_auc:.4f})')\n",
        "plt.plot([0, 1], [0, 1], color='gray', linestyle='--')\n",
        "plt.xlabel('False Positive Rate')\n",
        "plt.ylabel('True Positive Rate')\n",
        "plt.title('ROC Curve')\n",
        "plt.legend(loc='lower right')\n",
        "plt.savefig(save_path + \"750_new_if_roc_curve.png\")\n",
        "\n",
        "print(f\"Area Under the Curve (AUC): {roc_auc:.4f}\")\n",
        "\n",
        "# Classification report\n",
        "report = classification_report(y_test, (predictions > 0.5).astype(int))\n",
        "print(\"\\nClassification Report:\" + report)\n",
        "report = classification_report(y_test, (predictions > 0.5).astype(int), output_dict=True)\n",
        "\n",
        "# Convert the dictionary into a DataFrame and transpose it\n",
        "report_df = pd.DataFrame(report).transpose()\n",
        "\n",
        "# Save the report to a CSV file\n",
        "report_df.to_csv(\"750_new_if_classification_report.csv\")\n",
        "\n",
        "# Plot learning curves\n",
        "plot_learning_curve(rnn_fit, save_path=\"750_new_if_learning_curve\")\n"
      ],
      "metadata": {
        "id": "4i6nANby9Mz2",
        "colab": {
          "base_uri": "https://localhost:8080/",
          "height": 1000
        },
        "outputId": "d8166154-47d9-4d4f-995b-3b70d09d7521"
      },
      "execution_count": null,
      "outputs": [
        {
          "output_type": "stream",
          "name": "stdout",
          "text": [
            "\u001b[1m38/38\u001b[0m \u001b[32m━━━━━━━━━━━━━━━━━━━━\u001b[0m\u001b[37m\u001b[0m \u001b[1m3s\u001b[0m 63ms/step - accuracy: 1.0000 - loss: 0.1179\n",
            "Test Accuracy: 1.0000\n",
            "\u001b[1m38/38\u001b[0m \u001b[32m━━━━━━━━━━━━━━━━━━━━\u001b[0m\u001b[37m\u001b[0m \u001b[1m2s\u001b[0m 61ms/step\n",
            "\n",
            "🔹 First 10 Predictions vs Actual Values 🔹\n",
            "Sample 1: Actual = 0.0, Predicted Probability = 0.2068\n",
            "Sample 2: Actual = 0.0, Predicted Probability = 0.2068\n",
            "Sample 3: Actual = 1.0, Predicted Probability = 1.0000\n",
            "Sample 4: Actual = 0.0, Predicted Probability = 0.2068\n",
            "Sample 5: Actual = 0.0, Predicted Probability = 0.2068\n",
            "Sample 6: Actual = 0.0, Predicted Probability = 0.2068\n",
            "Sample 7: Actual = 0.0, Predicted Probability = 0.2068\n",
            "Sample 8: Actual = 1.0, Predicted Probability = 1.0000\n",
            "Sample 9: Actual = 0.0, Predicted Probability = 0.2068\n",
            "Sample 10: Actual = 0.0, Predicted Probability = 0.2068\n"
          ]
        },
        {
          "output_type": "display_data",
          "data": {
            "text/plain": [
              "<Figure size 1400x1000 with 1 Axes>"
            ],
            "image/png": "[encoded data removed]"
          },
          "metadata": {}
        },
        {
          "output_type": "stream",
          "name": "stdout",
          "text": [
            "Area Under the Curve (AUC): 1.0000\n",
            "\n",
            "Classification Report:              precision    recall  f1-score   support\n",
            "\n",
            "         0.0       1.00      1.00      1.00       600\n",
            "         1.0       1.00      1.00      1.00       600\n",
            "\n",
            "    accuracy                           1.00      1200\n",
            "   macro avg       1.00      1.00      1.00      1200\n",
            "weighted avg       1.00      1.00      1.00      1200\n",
            "\n"
          ]
        },
        {
          "output_type": "error",
          "ename": "NameError",
          "evalue": "name 'plot_learning_curve' is not defined",
          "traceback": [
            "\u001b[0;31m---------------------------------------------------------------------------\u001b[0m",
            "\u001b[0;31mNameError\u001b[0m                                 Traceback (most recent call last)",
            "\u001b[0;32m<ipython-input-12-b0b77d071d82>\u001b[0m in \u001b[0;36m<cell line: 50>\u001b[0;34m()\u001b[0m\n\u001b[1;32m     48\u001b[0m \u001b[0;34m\u001b[0m\u001b[0m\n\u001b[1;32m     49\u001b[0m \u001b[0;31m# Plot learning curves\u001b[0m\u001b[0;34m\u001b[0m\u001b[0;34m\u001b[0m\u001b[0m\n\u001b[0;32m---> 50\u001b[0;31m \u001b[0mplot_learning_curve\u001b[0m\u001b[0;34m(\u001b[0m\u001b[0mrnn_fit\u001b[0m\u001b[0;34m,\u001b[0m \u001b[0msave_path\u001b[0m\u001b[0;34m=\u001b[0m\u001b[0;34m\"750_new_if_learning_curve\"\u001b[0m\u001b[0;34m)\u001b[0m\u001b[0;34m\u001b[0m\u001b[0;34m\u001b[0m\u001b[0m\n\u001b[0m",
            "\u001b[0;31mNameError\u001b[0m: name 'plot_learning_curve' is not defined"
          ]
        },
        {
          "output_type": "display_data",
          "data": {
            "text/plain": [
              "<Figure size 800x600 with 1 Axes>"
            ],
            "image/png": "[encoded data removed]"
          },
          "metadata": {}
        }
      ]
    },
    {
      "cell_type": "code",
      "source": [
        "import shap\n",
        "explainer = shap.Explainer(model, input_data)\n",
        "\n",
        "# Calculate SHAP values for the input data\n",
        "shap_values = explainer(input_data)\n",
        "\n",
        "\n",
        "\n",
        "\n"
      ],
      "metadata": {
        "id": "AyfnJHpkXmNx"
      },
      "execution_count": null,
      "outputs": []
    },
    {
      "cell_type": "code",
      "source": [
        "shap.summary_plot(shap_values, input_data)"
      ],
      "metadata": {
        "id": "PRIGEStIX3Vi"
      },
      "execution_count": null,
      "outputs": []
    },
    {
      "cell_type": "code",
      "source": [
        "shap.initjs()  # Initialize JavaScript visualization\n",
        "shap.force_plot(shap_values[0], input_data[0]"
      ],
      "metadata": {
        "id": "8HgckH9gXzt_"
      },
      "execution_count": null,
      "outputs": []
    },
    {
      "cell_type": "code",
      "source": [
        "shap.dependence_plot(\"feature_name\", shap_values, input_data)"
      ],
      "metadata": {
        "id": "o12ZSZl0X04q"
      },
      "execution_count": null,
      "outputs": []
    },
    {
      "cell_type": "code",
      "source": [
        "shap.waterfall_plot(shap_values[0])"
      ],
      "metadata": {
        "id": "85knxzliX2OI"
      },
      "execution_count": null,
      "outputs": []
    }
  ],
  "metadata": {
    "kernelspec": {
      "display_name": "Python 3",
      "name": "python3"
    },
    "language_info": {
      "codemirror_mode": {
        "name": "ipython",
        "version": 3
      },
      "file_extension": ".py",
      "mimetype": "text/x-python",
      "name": "python",
      "nbconvert_exporter": "python",
      "pygments_lexer": "ipython3",
      "version": "3.6.4"
    },
    "colab": {
      "provenance": [],
      "machine_shape": "hm",
      "gpuType": "T4"
    },
    "accelerator": "GPU"
  },
  "nbformat": 4,
  "nbformat_minor": 0
}