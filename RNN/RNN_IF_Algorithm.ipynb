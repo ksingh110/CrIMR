{
  "cells": [
    {
      "cell_type": "code",
      "execution_count": null,
      "metadata": {
        "id": "tG1h4LD46BFE"
      },
      "outputs": [],
      "source": [
        "import numpy as np\n",
        "import pandas as pd\n",
        "import os\n",
        "from tensorflow.keras.models import Sequential, load_model\n",
        "from tensorflow.keras.layers import LSTM, Dense, Dropout\n",
        "from tensorflow.keras.callbacks import ModelCheckpoint, CSVLogger\n",
        "from sklearn.model_selection import train_test_split\n",
        "from sklearn.metrics import classification_report\n",
        "from sklearn.metrics import roc_curve, roc_auc_score\n",
        "import tensorflow as tf\n",
        "from sklearn.ensemble import IsolationForest\n",
        "import matplotlib.pyplot as plt\n",
        "from sklearn.metrics import classification_report\n",
        "from sklearn.metrics import roc_curve, roc_auc_score\n",
        "# Reset TensorFlow graph\n",
        "tf.compat.v1.reset_default_graph()"
      ]
    },
    {
      "cell_type": "markdown",
      "metadata": {
        "id": "Oc1rtw5-6BFF"
      },
      "source": [
        "Paths and data"
      ]
    },
    {
      "cell_type": "code",
      "execution_count": null,
      "metadata": {
        "id": "ixP_Qgf26BFF"
      },
      "outputs": [],
      "source": [
        "checkpoint_path = \"E:/my_models/1000_if_new_best_model.h5\"\n",
        "save_path = \"E:/my_plots/1000_if_new_prediction_plots/\"\n",
        "mutated_data = np.load(\"E:\\datasets\\processeddata\\MUTATION_DATA_TRAINING_1000.npz\", allow_pickle=True, mmap_mode='r')\n",
        "nonmutated_data = np.load(\"E:\\\\datasets\\\\processeddata\\\\AUGMENTED_DATA_TRAINING_1000.npz\", allow_pickle=True, mmap_mode='r')\n",
        "csv_file = \"cry1realvariations (1).csv\"  # Assuming this CSV contains mutation data for anomaly detection"
      ]
    },
    {
      "cell_type": "markdown",
      "metadata": {
        "id": "OQMqFtDK6BFF"
      },
      "source": [
        "Anomaly detection using Isolation Forest"
      ]
    },
    {
      "cell_type": "code",
      "execution_count": null,
      "metadata": {
        "id": "t-iH3W2c6BFG"
      },
      "outputs": [],
      "source": [
        "def load_and_get_anomaly_scores(csv_file):\n",
        "    df = pd.read_csv(csv_file)\n",
        "\n",
        "    # Assuming the CSV file has columns 'Mutation ID' and 'Allele Frequency'\n",
        "    data_id_array = df['_displayName'].values[:1000].reshape(-1, 1)  # Get the first 1000 Mutation IDs\n",
        "    array_data = df['AF'].values[:1000].reshape(-1, 1)  # Get the first 1000 Allele Frequencies\n",
        "\n",
        "    # Initialize and fit the Isolation Forest model\n",
        "    clf = IsolationForest(contamination=0.01, random_state=42)\n",
        "    clf.fit(array_data)\n",
        "\n",
        "    # Get anomaly scores and predictions\n",
        "    anomaly_scores = clf.decision_function(array_data)  # Negative scores represent outliers (anomalous)\n",
        "    predictions = clf.predict(array_data)  # -1 for anomaly, 1 for normal\n",
        "\n",
        "    # Invert the anomaly scores (as lower scores indicate anomalies, we invert so higher scores are more \"normal\")\n",
        "    inverted_anomaly_scores = -anomaly_scores\n",
        "\n",
        "    # Filter out NaN values and prepare the data for plotting\n",
        "    valid_indices = ~np.isnan(array_data)\n",
        "    valid_indices = valid_indices.flatten()\n",
        "    data_id_array = data_id_array[valid_indices]\n",
        "    array_data = array_data[valid_indices]\n",
        "    inverted_anomaly_scores = inverted_anomaly_scores[valid_indices]\n",
        "    predictions = predictions[valid_indices]\n",
        "    return inverted_anomaly_scores, data_id_array, array_data, predictions"
      ]
    },
    {
      "cell_type": "markdown",
      "metadata": {
        "id": "ivb2GEO26BFG"
      },
      "source": [
        "Get anomaly scores"
      ]
    },
    {
      "cell_type": "code",
      "execution_count": null,
      "metadata": {
        "id": "2ip-jF7H6BFG"
      },
      "outputs": [],
      "source": [
        "anomaly_scores, _, _, _ = load_and_get_anomaly_scores(csv_file)"
      ]
    },
    {
      "cell_type": "markdown",
      "metadata": {
        "id": "dcY_Bvf86BFG"
      },
      "source": [
        "Function to load sequences and their labels"
      ]
    },
    {
      "cell_type": "code",
      "execution_count": null,
      "metadata": {
        "id": "rm3k2GeT6BFG"
      },
      "outputs": [],
      "source": [
        "def load_sequences(data, label):\n",
        "    encoded_sequences = None\n",
        "    input_shape = None\n",
        "\n",
        "    for key in data.files:\n",
        "        temp_sequences = data[key]\n",
        "        print(f\"Checking key '{key}': shape {temp_sequences.shape}\")  # Debugging\n",
        "        if temp_sequences.ndim == 2:  # If 2D, reshape to 3D for LSTM\n",
        "            temp_sequences = np.expand_dims(temp_sequences, axis=1)  # (samples, 1, features)\n",
        "        if temp_sequences.ndim == 3:\n",
        "            encoded_sequences = temp_sequences\n",
        "            input_shape = (encoded_sequences.shape[1], encoded_sequences.shape[2])\n",
        "            print(f\"Using key '{key}' with reshaped shape {encoded_sequences.shape}\")\n",
        "            break\n",
        "        else:\n",
        "            print(f\"Skipping '{key}': Unexpected shape {temp_sequences.shape}\")\n",
        "    if encoded_sequences is None:\n",
        "        raise ValueError(f\"No valid encoded sequences found in {label} file.\")\n",
        "    return encoded_sequences, input_shape"
      ]
    },
    {
      "cell_type": "markdown",
      "metadata": {
        "id": "7IcRCvLU6BFG"
      },
      "source": [
        "Load data"
      ]
    },
    {
      "cell_type": "code",
      "execution_count": null,
      "metadata": {
        "id": "bDbsqj2I6BFG"
      },
      "outputs": [],
      "source": [
        "mutated_sequences, input_shape = load_sequences(mutated_data, \"mutated\")\n",
        "nonmutated_sequences, _ = load_sequences(nonmutated_data, \"nonmutated\")"
      ]
    },
    {
      "cell_type": "code",
      "execution_count": null,
      "metadata": {
        "id": "-iBJilHX6BFH"
      },
      "outputs": [],
      "source": [
        "mutated_labels = np.ones(mutated_sequences.shape[0])  # 1 for mutated\n",
        "nonmutated_labels = np.zeros(nonmutated_sequences.shape[0])  # 0 for non-mutated"
      ]
    },
    {
      "cell_type": "markdown",
      "metadata": {
        "id": "Rf4crAFi6BFH"
      },
      "source": [
        "Step 1: Generate random Mutation IDs for non-mutated data"
      ]
    },
    {
      "cell_type": "code",
      "execution_count": null,
      "metadata": {
        "id": "0BxEa90_6BFH"
      },
      "outputs": [],
      "source": [
        "nonmutated_data_with_ids = np.array([f\"NonMut_{i}\" for i in range(len(nonmutated_data.files))])\n",
        "allele_frequency_mutated = pd.read_csv(csv_file)['AF'].values[:1000]  # Allele Frequency of mutated data\n",
        "noise = np.random.normal(0, np.std(allele_frequency_mutated), len(nonmutated_data.files))\n",
        "nonmutated_allele_frequency = np.random.normal(np.mean(allele_frequency_mutated), np.std(allele_frequency_mutated), len(nonmutated_data.files))"
      ]
    },
    {
      "cell_type": "markdown",
      "metadata": {
        "id": "8Lz7P3Gw6BFI"
      },
      "source": [
        "Step 3: Incorporate noise into non-mutated data for Isolation Forest"
      ]
    },
    {
      "cell_type": "code",
      "execution_count": null,
      "metadata": {
        "id": "CSQQ16kd6BFI"
      },
      "outputs": [],
      "source": [
        "df_nonmutated_with_noise = pd.DataFrame({\n",
        "    '_displayName': nonmutated_data_with_ids,\n",
        "    'AF': nonmutated_allele_frequency\n",
        "})"
      ]
    },
    {
      "cell_type": "markdown",
      "metadata": {
        "id": "tqL_xA2l6BFI"
      },
      "source": [
        "Step 4: Apply Isolation Forest on non-mutated data"
      ]
    },
    {
      "cell_type": "code",
      "execution_count": null,
      "metadata": {
        "id": "Ec2cKpIp6BFI"
      },
      "outputs": [],
      "source": [
        "clf = IsolationForest(contamination=0.01, random_state=42)\n",
        "clf.fit(df_nonmutated_with_noise['AF'].values.reshape(-1, 1))"
      ]
    },
    {
      "cell_type": "markdown",
      "metadata": {
        "id": "Q1CWDhWO6BFI"
      },
      "source": [
        "Get anomaly scores and predictions for non-mutated data"
      ]
    },
    {
      "cell_type": "code",
      "execution_count": null,
      "metadata": {
        "id": "KWL0nWE_6BFI"
      },
      "outputs": [],
      "source": [
        "nonmutated_anomaly_scores = clf.decision_function(df_nonmutated_with_noise['AF'].values.reshape(-1, 1))\n",
        "nonmutated_predictions = clf.predict(df_nonmutated_with_noise['AF'].values.reshape(-1, 1))"
      ]
    },
    {
      "cell_type": "markdown",
      "metadata": {
        "id": "2RxaIUQy6BFI"
      },
      "source": [
        "Invert the anomaly scores (lower scores = anomalies)"
      ]
    },
    {
      "cell_type": "code",
      "execution_count": null,
      "metadata": {
        "id": "NhISmeD96BFI"
      },
      "outputs": [],
      "source": [
        "nonmutated_inverted_anomaly_scores = -nonmutated_anomaly_scores"
      ]
    },
    {
      "cell_type": "markdown",
      "metadata": {
        "id": "CbJt88yi6BFI"
      },
      "source": [
        "Append anomaly scores to features (only for the mutated sequences)"
      ]
    },
    {
      "cell_type": "code",
      "execution_count": null,
      "metadata": {
        "id": "7D3-US9U6BFI"
      },
      "outputs": [],
      "source": [
        "anomaly_scores_reshaped = anomaly_scores[:mutated_sequences.shape[0]].reshape(-1, 1)\n",
        "# Expand anomaly_scores_reshaped to 3D (1000, 1, 1) to match the timesteps axis of X\n",
        "anomaly_scores_reshaped = np.expand_dims(anomaly_scores_reshaped, axis=-1)  # shape (1000, 1, 1)"
      ]
    },
    {
      "cell_type": "markdown",
      "metadata": {
        "id": "dsOIn4rA6BFI"
      },
      "source": [
        "Update the last feature of each sequence with the anomaly score"
      ]
    },
    {
      "cell_type": "code",
      "execution_count": null,
      "metadata": {
        "id": "XZG2tQRv6BFI"
      },
      "outputs": [],
      "source": [
        "mutated_sequences_with_anomalies = mutated_sequences.copy()  # Make a copy of mutated_sequences\n",
        "mutated_sequences_with_anomalies[:, :, -1:] = anomaly_scores_reshaped  # Replace the last feature with the anomaly score\n",
        "# Concatenate anomaly scores with mutated sequences only"
      ]
    },
    {
      "cell_type": "markdown",
      "metadata": {
        "id": "yfzFLVKE6BFI"
      },
      "source": [
        "Concatenate the mutated and non-mutated sequences (with anomalies added to mutated)"
      ]
    },
    {
      "cell_type": "code",
      "execution_count": null,
      "metadata": {
        "id": "av97y5jZ6BFI"
      },
      "outputs": [],
      "source": [
        "X_with_anomalies = np.concatenate([mutated_sequences_with_anomalies, nonmutated_sequences], axis=0)\n",
        "y = np.concatenate([mutated_labels, nonmutated_labels], axis=0)"
      ]
    },
    {
      "cell_type": "code",
      "execution_count": null,
      "metadata": {
        "id": "K2NZ0QFy6BFJ"
      },
      "outputs": [],
      "source": [
        "x_train, x_test, y_train, y_test = train_test_split(X_with_anomalies, y, random_state=42, test_size=0.2, stratify=y)"
      ]
    },
    {
      "cell_type": "markdown",
      "metadata": {
        "id": "57HBcrZm6BFJ"
      },
      "source": [
        "RNN Model"
      ]
    },
    {
      "cell_type": "code",
      "execution_count": null,
      "metadata": {
        "id": "b-fwXgRF6BFJ"
      },
      "outputs": [],
      "source": [
        "def rnn_model(input_shape):\n",
        "    model = Sequential([\n",
        "        LSTM(32, input_shape=input_shape, return_sequences=False, activation=\"relu\"),\n",
        "        Dropout(0.5),\n",
        "        Dense(1, activation='sigmoid', kernel_regularizer=tf.keras.regularizers.l2(0.01))\n",
        "    ])\n",
        "    model.compile(optimizer=\"adamw\", loss='binary_crossentropy', metrics=['accuracy'])\n",
        "    return model"
      ]
    },
    {
      "cell_type": "code",
      "execution_count": null,
      "metadata": {
        "id": "mffMLEJ-6BFJ"
      },
      "outputs": [],
      "source": [
        "def reset_rnn(input_shape):\n",
        "    # Recreate the model to reset weights\n",
        "    model = rnn_model(input_shape)\n",
        "    return model"
      ]
    },
    {
      "cell_type": "markdown",
      "metadata": {
        "id": "0WNWsbji6BFJ"
      },
      "source": [
        "Plotting function"
      ]
    },
    {
      "cell_type": "code",
      "execution_count": null,
      "metadata": {
        "id": "D4d-uia36BFM"
      },
      "outputs": [],
      "source": [
        "def plot_learning_curve(history, save_path):\n",
        "    # Extract training and validation loss (or accuracy)\n",
        "    training_loss = history.history['loss']\n",
        "    validation_loss = history.history['val_loss']\n",
        "    training_acc = history.history['accuracy']\n",
        "    validation_acc = history.history['val_accuracy']\n",
        "    epochs = range(1, len(training_loss) + 1)\n",
        "\n",
        "    # Plot loss curves\n",
        "    plt.figure(figsize=(12, 6))\n",
        "\n",
        "    # Loss plot\n",
        "    plt.subplot(1, 2, 1)\n",
        "    plt.plot(epochs, training_loss, label='Training Loss')\n",
        "    plt.plot(epochs, validation_loss, label='Validation Loss')\n",
        "    plt.title('Loss Curve')\n",
        "    plt.xlabel('Epochs')\n",
        "    plt.ylabel('Loss')\n",
        "    plt.legend()\n",
        "\n",
        "    # Accuracy plot\n",
        "    plt.subplot(1, 2, 2)\n",
        "    plt.plot(epochs, training_acc, label='Training Accuracy')\n",
        "    plt.plot(epochs, validation_acc, label='Validation Accuracy')\n",
        "    plt.title('Accuracy Curve')\n",
        "    plt.xlabel('Epochs')\n",
        "    plt.ylabel('Accuracy')\n",
        "    plt.legend()\n",
        "    plt.tight_layout()\n",
        "    plt.savefig(save_path)"
      ]
    },
    {
      "cell_type": "markdown",
      "metadata": {
        "id": "o0x25u5r6BFN"
      },
      "source": [
        "Reset model"
      ]
    },
    {
      "cell_type": "code",
      "execution_count": null,
      "metadata": {
        "id": "DKy1J1io6BFN"
      },
      "outputs": [],
      "source": [
        "model = reset_rnn(input_shape)"
      ]
    },
    {
      "cell_type": "markdown",
      "metadata": {
        "id": "LrhXuPNn6BFN"
      },
      "source": [
        "Checkpoints and logging"
      ]
    },
    {
      "cell_type": "code",
      "execution_count": null,
      "metadata": {
        "id": "l2ZUH2H16BFN"
      },
      "outputs": [],
      "source": [
        "checkpoint = ModelCheckpoint(checkpoint_path, monitor=\"val_loss\", save_best_only=True, mode=\"min\")\n",
        "csv_log = CSVLogger(\"training_log_new_1000_if.csv\", append=True)"
      ]
    },
    {
      "cell_type": "markdown",
      "metadata": {
        "id": "m00g-UzP6BFN"
      },
      "source": [
        "Fit the model"
      ]
    },
    {
      "cell_type": "code",
      "execution_count": null,
      "metadata": {
        "id": "COqkfUb36BFN"
      },
      "outputs": [],
      "source": [
        "rnn_fit = model.fit(x_train, y_train, batch_size=16, epochs=20, verbose=1, validation_data=(x_test, y_test), callbacks=[csv_log, checkpoint])"
      ]
    },
    {
      "cell_type": "markdown",
      "metadata": {
        "id": "kaKkIyqK6BFN"
      },
      "source": [
        "Evaluate the model"
      ]
    },
    {
      "cell_type": "code",
      "execution_count": null,
      "metadata": {
        "id": "L43BW6Xd6BFN"
      },
      "outputs": [],
      "source": [
        "loss, accuracy = model.evaluate(x_test, y_test)\n",
        "print(f\"Test Accuracy: {accuracy:.4f}\")"
      ]
    },
    {
      "cell_type": "markdown",
      "metadata": {
        "id": "Yosx7ast6BFN"
      },
      "source": [
        "Predictions"
      ]
    },
    {
      "cell_type": "code",
      "execution_count": null,
      "metadata": {
        "id": "OZ4yEjRC6BFN"
      },
      "outputs": [],
      "source": [
        "predictions = model.predict(x_test).flatten()\n",
        "print(\"\\nðŸ”¹ First 10 Predictions vs Actual Values ðŸ”¹\")\n",
        "for i in range(10):\n",
        "    print(f\"Sample {i+1}: Actual = {y_test[i]}, Predicted Probability = {predictions[i]:.4f}\")"
      ]
    },
    {
      "cell_type": "markdown",
      "metadata": {
        "id": "2m7upJNa6BFN"
      },
      "source": [
        "Save plots"
      ]
    },
    {
      "cell_type": "code",
      "execution_count": null,
      "metadata": {
        "id": "JA149BSq6BFO"
      },
      "outputs": [],
      "source": [
        "os.makedirs(save_path, exist_ok=True)"
      ]
    },
    {
      "cell_type": "markdown",
      "metadata": {
        "id": "2yzaeD_Q6BFO"
      },
      "source": [
        "Histogram of predictions"
      ]
    },
    {
      "cell_type": "code",
      "execution_count": null,
      "metadata": {
        "id": "RUWzHm5S6BFO"
      },
      "outputs": [],
      "source": [
        "plt.figure(figsize=(14, 10))\n",
        "plt.hist(predictions, bins=20, edgecolor='black', alpha=0.7)\n",
        "plt.xlabel(\"Predicted Probability\")\n",
        "plt.ylabel(\"Count\")\n",
        "plt.title(\"Distribution of Predicted Probabilities\")\n",
        "plt.savefig(save_path + \"histogram_predictions.png\")\n",
        "plt.show()"
      ]
    },
    {
      "cell_type": "markdown",
      "metadata": {
        "id": "7IWy-lyr6BFO"
      },
      "source": [
        "Calculate the ROC curve and AUC"
      ]
    },
    {
      "cell_type": "code",
      "execution_count": null,
      "metadata": {
        "id": "mpOEC1V_6BFO"
      },
      "outputs": [],
      "source": [
        "fpr, tpr, thresholds = roc_curve(y_test, predictions)\n",
        "roc_auc = roc_auc_score(y_test, predictions)"
      ]
    },
    {
      "cell_type": "markdown",
      "metadata": {
        "id": "bpQcgNMs6BFO"
      },
      "source": [
        "Plot ROC curve"
      ]
    },
    {
      "cell_type": "code",
      "execution_count": null,
      "metadata": {
        "id": "FH5y3Elf6BFO"
      },
      "outputs": [],
      "source": [
        "plt.figure(figsize=(8, 6))\n",
        "plt.plot(fpr, tpr, color='blue', label=f'ROC curve (AUC = {roc_auc:.4f})')\n",
        "plt.plot([0, 1], [0, 1], color='gray', linestyle='--')\n",
        "plt.xlabel('False Positive Rate')\n",
        "plt.ylabel('True Positive Rate')\n",
        "plt.title('ROC Curve')\n",
        "plt.legend(loc='lower right')\n",
        "plt.savefig(save_path + \"1000_new_if_roc_curve.png\")"
      ]
    },
    {
      "cell_type": "code",
      "execution_count": null,
      "metadata": {
        "id": "FY4hfApn6BFO"
      },
      "outputs": [],
      "source": [
        "print(f\"Area Under the Curve (AUC): {roc_auc:.4f}\")"
      ]
    },
    {
      "cell_type": "markdown",
      "metadata": {
        "id": "YjT0_w0O6BFO"
      },
      "source": [
        "Classification report"
      ]
    },
    {
      "cell_type": "code",
      "execution_count": null,
      "metadata": {
        "id": "vD6qWBSU6BFO"
      },
      "outputs": [],
      "source": [
        "report = classification_report(y_test, (predictions > 0.5).astype(int))\n",
        "print(\"\\nClassification Report:\" + report)\n",
        "report = classification_report(y_test, (predictions > 0.5).astype(int), output_dict=True)"
      ]
    },
    {
      "cell_type": "markdown",
      "metadata": {
        "id": "jEMkebFb6BFO"
      },
      "source": [
        "Convert the dictionary into a DataFrame and transpose it"
      ]
    },
    {
      "cell_type": "code",
      "execution_count": null,
      "metadata": {
        "id": "y1ciKGd66BFP"
      },
      "outputs": [],
      "source": [
        "report_df = pd.DataFrame(report).transpose()"
      ]
    },
    {
      "cell_type": "markdown",
      "metadata": {
        "id": "fiv6qPBh6BFP"
      },
      "source": [
        "Save the report to a CSV file"
      ]
    },
    {
      "cell_type": "code",
      "execution_count": null,
      "metadata": {
        "id": "Tx57NlPZ6BFP"
      },
      "outputs": [],
      "source": [
        "report_df.to_csv(\"1000_new_if_classification_report.csv\")"
      ]
    },
    {
      "cell_type": "markdown",
      "metadata": {
        "id": "qF-7qoqF6BFP"
      },
      "source": [
        "Plot learning curves"
      ]
    },
    {
      "cell_type": "code",
      "execution_count": null,
      "metadata": {
        "id": "hO8us7_96BFP"
      },
      "outputs": [],
      "source": [
        "plot_learning_curve(rnn_fit, save_path=\"1000_new_if_learning_curve\")"
      ]
    }
  ],
  "metadata": {
    "kernelspec": {
      "display_name": "Python 3",
      "name": "python3"
    },
    "language_info": {
      "codemirror_mode": {
        "name": "ipython",
        "version": 3
      },
      "file_extension": ".py",
      "mimetype": "text/x-python",
      "name": "python",
      "nbconvert_exporter": "python",
      "pygments_lexer": "ipython3",
      "version": "3.6.4"
    },
    "colab": {
      "provenance": [],
      "gpuType": "T4"
    },
    "accelerator": "GPU"
  },
  "nbformat": 4,
  "nbformat_minor": 0
}