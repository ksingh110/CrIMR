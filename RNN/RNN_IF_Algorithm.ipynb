{
  "cells": [
    {
      "cell_type": "code",
      "execution_count": 1,
      "metadata": {
        "id": "83GkxgfIQc7h",
        "colab": {
          "base_uri": "https://localhost:8080/"
        },
        "outputId": "c13ef3f8-9399-491d-8bbe-acbcfcf569a9"
      },
      "outputs": [
        {
          "output_type": "execute_result",
          "data": {
            "text/plain": [
              "5"
            ]
          },
          "metadata": {},
          "execution_count": 1
        }
      ],
      "source": [
        "import numpy as np\n",
        "import pandas as pd\n",
        "import os\n",
        "from tensorflow.keras.models import Sequential, load_model\n",
        "from tensorflow.keras.layers import LSTM, Dense, Dropout\n",
        "from tensorflow.keras.callbacks import ModelCheckpoint, CSVLogger\n",
        "from sklearn.model_selection import train_test_split\n",
        "from sklearn.metrics import classification_report\n",
        "from sklearn.metrics import roc_curve, roc_auc_score\n",
        "import tensorflow as tf\n",
        "from sklearn.ensemble import IsolationForest\n",
        "import matplotlib.pyplot as plt\n",
        "from sklearn.metrics import classification_report\n",
        "from sklearn.metrics import roc_curve, roc_auc_score\n",
        "import gc\n",
        "# Reset TensorFlow graph\n",
        "tf.compat.v1.reset_default_graph()\n",
        "gc.collect()"
      ]
    },
    {
      "cell_type": "markdown",
      "metadata": {
        "id": "hXtpL2pKQc7i"
      },
      "source": [
        "Paths and data"
      ]
    },
    {
      "cell_type": "code",
      "execution_count": 2,
      "metadata": {
        "id": "sdQq5widQc7i"
      },
      "outputs": [],
      "source": [
        "checkpoint_path = \"7000_if_new_best_model.h5\"\n",
        "save_path = \"7000_if_new_prediction_plots/\"\n",
        "mutated_file = \"/content/E__datasets_processeddata_MUTATION_DATA_TRAINING_15000_1.npz\"\n",
        "nonmutated_file = \"/content/E__datasets_processeddata_MUTATION_DATA_TRAINING_15000_1.npz\"\n",
        "mutated_data = np.load(\"/content/E__datasets_processeddata_MUTATION_DATA_TRAINING_15000_1.npz\", allow_pickle=True, mmap_mode='r')\n",
        "nonmutated_data = np.load(\"/content/E__datasets_processeddata_MUTATION_DATA_TRAINING_15000_1.npz\", allow_pickle=True, mmap_mode='r')\n",
        "csv_file = \"cry1realvariations (1).csv\"  # Assuming this CSV contains mutation data for anomaly detection"
      ]
    },
    {
      "cell_type": "markdown",
      "metadata": {
        "id": "VFTuG0NvQc7j"
      },
      "source": [
        "Anomaly detection using Isolation Forest"
      ]
    },
    {
      "cell_type": "code",
      "execution_count": 3,
      "metadata": {
        "id": "o9RSjXZVQc7j"
      },
      "outputs": [],
      "source": [
        "def load_and_get_anomaly_scores(csv_file):\n",
        "    df = pd.read_csv(csv_file)\n",
        "    df = df[df[\"variation_type\"].str.contains(\"intron_variant\", na=False, case=False)]\n",
        "    data_id_array = tf.convert_to_tensor(df['_displayName'].values[:6000], dtype=tf.string)\n",
        "    array_data = tf.convert_to_tensor(df['AF'].values[:6000], dtype=tf.float32)\n",
        "\n",
        "    # Isolation Forest anomaly detection\n",
        "    clf = IsolationForest(contamination=0.01, random_state=42)\n",
        "    clf.fit(array_data.numpy().reshape(-1, 1))  # Ensure array_data is a numpy array for sklearn\n",
        "    anomaly_scores = clf.decision_function(array_data.numpy().reshape(-1, 1))\n",
        "    predictions = clf.predict(array_data.numpy().reshape(-1, 1))\n",
        "    inverted_anomaly_scores = -anomaly_scores\n",
        "\n",
        "    return tf.convert_to_tensor(inverted_anomaly_scores, dtype=tf.float32), data_id_array, array_data, tf.convert_to_tensor(predictions, dtype=tf.int32)\n",
        "\n",
        "# Call the function with the CSV file path\n",
        "csv_file = \"cry1realvariations (1).csv\"  # Update this path to your CSV file\n",
        "anomaly_scores, data_id_array, array_data, predictions = load_and_get_anomaly_scores(csv_file)"
      ]
    },
    {
      "cell_type": "markdown",
      "metadata": {
        "id": "YIo0Ntm4Qc7j"
      },
      "source": [
        "Get anomaly scores"
      ]
    },
    {
      "cell_type": "code",
      "execution_count": 4,
      "metadata": {
        "id": "T09WczQZQc7j"
      },
      "outputs": [],
      "source": [
        "anomaly_scores, _, _, _ = load_and_get_anomaly_scores(csv_file)"
      ]
    },
    {
      "cell_type": "code",
      "source": [
        "def load_data_in_batches(file_path, batch_size=1000):\n",
        "    # Load the data file using tf.data API\n",
        "    print(f\"Loading data from {file_path}...\")\n",
        "\n",
        "    data = np.load(file_path, allow_pickle=True, mmap_mode='r')\n",
        "    key = list(data.files)[0]  # Assuming only one key (e.g., 'arr_0')\n",
        "\n",
        "    # Print the available keys to check\n",
        "    print(f\"Available keys in the .npz file: {list(data.files)}\")\n",
        "\n",
        "    full_data = tf.convert_to_tensor(data[key][:6000], dtype=tf.float32)  # Load the first 6000 sequences\n",
        "\n",
        "    # Print shape of loaded data\n",
        "    print(f\"Shape of loaded data: {full_data.shape}\")\n",
        "\n",
        "    # Create the dataset and apply batching, shuffling, and prefetching\n",
        "    dataset = tf.data.Dataset.from_tensor_slices(full_data)\n",
        "    dataset = dataset.batch(batch_size).shuffle(buffer_size=10000).prefetch(tf.data.experimental.AUTOTUNE)\n",
        "\n",
        "    # Print the shape of data in the first batch to ensure everything is correct\n",
        "    for batch in dataset.take(1):\n",
        "        print(f\"First batch shape: {batch.shape}\")\n",
        "\n",
        "    return dataset"
      ],
      "metadata": {
        "id": "bfUNHmepmDdY"
      },
      "execution_count": 5,
      "outputs": []
    },
    {
      "cell_type": "markdown",
      "metadata": {
        "id": "zvTcb_ZPQc7j"
      },
      "source": [
        "Function to load sequences and their labels"
      ]
    },
    {
      "cell_type": "code",
      "execution_count": 6,
      "metadata": {
        "id": "XAqDxD17Qc7j"
      },
      "outputs": [],
      "source": [
        "def load_sequences(data, label, file_path):\n",
        "    encoded_sequences = None\n",
        "    input_shape = None\n",
        "    data_load = load_data_in_batches(file_path)  # Getting batches\n",
        "\n",
        "    for batch_data in data_load:\n",
        "        temp_sequences = batch_data  # This is the data for the current batch\n",
        "        print(f\"Batch shape: {temp_sequences.shape}\")  # Debugging\n",
        "\n",
        "        if temp_sequences.ndim == 2:  # If 2D, reshape to 3D for LSTM\n",
        "            temp_sequences = np.expand_dims(temp_sequences, axis=1)  # (samples, 1, features)\n",
        "\n",
        "        if temp_sequences.ndim == 3:\n",
        "            encoded_sequences = temp_sequences\n",
        "            input_shape = (encoded_sequences.shape[1], encoded_sequences.shape[2])\n",
        "            print(f\"reshaped shape {encoded_sequences.shape}\")\n",
        "            break\n",
        "        else:\n",
        "            print(f\"Skipping: Unexpected shape {temp_sequences.shape}\")\n",
        "\n",
        "    if encoded_sequences is None:\n",
        "        raise ValueError(f\"No valid encoded sequences found in  file.\")\n",
        "\n",
        "    return encoded_sequences, input_shape"
      ]
    },
    {
      "cell_type": "markdown",
      "metadata": {
        "id": "as5fPxMEQc7k"
      },
      "source": [
        "Load data"
      ]
    },
    {
      "cell_type": "code",
      "execution_count": null,
      "metadata": {
        "id": "BNDWtI4pQc7k",
        "colab": {
          "base_uri": "https://localhost:8080/"
        },
        "outputId": "6ba03b02-946a-47c0-9ffb-8d642e7a0459"
      },
      "outputs": [
        {
          "output_type": "stream",
          "name": "stdout",
          "text": [
            "Loading data from /content/E__datasets_processeddata_MUTATION_DATA_TRAINING_15000_1.npz...\n",
            "Available keys in the .npz file: ['arr_0']\n",
            "Shape of loaded data: (6000, 410000)\n",
            "First batch shape: (1000, 410000)\n",
            "Loading data from /content/E__datasets_processeddata_MUTATION_DATA_TRAINING_15000_1.npz...\n",
            "Available keys in the .npz file: ['arr_0']\n"
          ]
        }
      ],
      "source": [
        "mutated_sequences = load_data_in_batches(mutated_file)\n",
        "nonmutated_sequences = load_data_in_batches(nonmutated_file)"
      ]
    },
    {
      "cell_type": "code",
      "execution_count": 8,
      "metadata": {
        "id": "iahiovvKQc7k"
      },
      "outputs": [],
      "source": [
        "mutated_labels = tf.ones([6000], dtype=tf.float32)\n",
        "nonmutated_labels = tf.zeros([6000], dtype=tf.float32)"
      ]
    },
    {
      "cell_type": "markdown",
      "metadata": {
        "id": "QfHDzl9iQc7k"
      },
      "source": [
        "Step 1: Generate random Mutation IDs for non-mutated data"
      ]
    },
    {
      "cell_type": "code",
      "execution_count": 9,
      "metadata": {
        "id": "25nNlt7GQc7k"
      },
      "outputs": [],
      "source": [
        "nonmutated_data_with_ids = tf.convert_to_tensor([f\"NonMut_{i}\" for i in range(len(nonmutated_sequences))], dtype=tf.string)\n",
        "allele_frequency_mutated = tf.convert_to_tensor(pd.read_csv(csv_file)['AF'].values[:6000], dtype=tf.float32)\n"
      ]
    },
    {
      "cell_type": "markdown",
      "metadata": {
        "id": "1JTeebY3Qc7l"
      },
      "source": [
        "Generate random noise (Gaussian noise with mean 0 and std deviation same as mutated data's AF)"
      ]
    },
    {
      "cell_type": "code",
      "execution_count": 10,
      "metadata": {
        "id": "EknyDe9HQc7l"
      },
      "outputs": [],
      "source": [
        "noise = tf.random.normal([len(nonmutated_sequences)], mean=0.0, stddev=tf.math.reduce_std(allele_frequency_mutated))\n",
        "nonmutated_allele_frequency = tf.random.normal([len(nonmutated_sequences)], mean=tf.math.reduce_mean(allele_frequency_mutated), stddev=tf.math.reduce_std(allele_frequency_mutated))\n"
      ]
    },
    {
      "cell_type": "markdown",
      "metadata": {
        "id": "yl_n-2wGQc7l"
      },
      "source": [
        "Step 4: Apply Isolation Forest on non-mutated data"
      ]
    },
    {
      "cell_type": "code",
      "execution_count": 11,
      "metadata": {
        "id": "EPIPsDgoQc7l",
        "colab": {
          "base_uri": "https://localhost:8080/",
          "height": 80
        },
        "outputId": "91bf607e-c5a5-4459-e69d-9b9ac52338b2"
      },
      "outputs": [
        {
          "output_type": "execute_result",
          "data": {
            "text/plain": [
              "IsolationForest(contamination=0.01, random_state=42)"
            ],
            "text/html": [
              "<style>#sk-container-id-1 {\n",
              "  /* Definition of color scheme common for light and dark mode */\n",
              "  --sklearn-color-text: #000;\n",
              "  --sklearn-color-text-muted: #666;\n",
              "  --sklearn-color-line: gray;\n",
              "  /* Definition of color scheme for unfitted estimators */\n",
              "  --sklearn-color-unfitted-level-0: #fff5e6;\n",
              "  --sklearn-color-unfitted-level-1: #f6e4d2;\n",
              "  --sklearn-color-unfitted-level-2: #ffe0b3;\n",
              "  --sklearn-color-unfitted-level-3: chocolate;\n",
              "  /* Definition of color scheme for fitted estimators */\n",
              "  --sklearn-color-fitted-level-0: #f0f8ff;\n",
              "  --sklearn-color-fitted-level-1: #d4ebff;\n",
              "  --sklearn-color-fitted-level-2: #b3dbfd;\n",
              "  --sklearn-color-fitted-level-3: cornflowerblue;\n",
              "\n",
              "  /* Specific color for light theme */\n",
              "  --sklearn-color-text-on-default-background: var(--sg-text-color, var(--theme-code-foreground, var(--jp-content-font-color1, black)));\n",
              "  --sklearn-color-background: var(--sg-background-color, var(--theme-background, var(--jp-layout-color0, white)));\n",
              "  --sklearn-color-border-box: var(--sg-text-color, var(--theme-code-foreground, var(--jp-content-font-color1, black)));\n",
              "  --sklearn-color-icon: #696969;\n",
              "\n",
              "  @media (prefers-color-scheme: dark) {\n",
              "    /* Redefinition of color scheme for dark theme */\n",
              "    --sklearn-color-text-on-default-background: var(--sg-text-color, var(--theme-code-foreground, var(--jp-content-font-color1, white)));\n",
              "    --sklearn-color-background: var(--sg-background-color, var(--theme-background, var(--jp-layout-color0, #111)));\n",
              "    --sklearn-color-border-box: var(--sg-text-color, var(--theme-code-foreground, var(--jp-content-font-color1, white)));\n",
              "    --sklearn-color-icon: #878787;\n",
              "  }\n",
              "}\n",
              "\n",
              "#sk-container-id-1 {\n",
              "  color: var(--sklearn-color-text);\n",
              "}\n",
              "\n",
              "#sk-container-id-1 pre {\n",
              "  padding: 0;\n",
              "}\n",
              "\n",
              "#sk-container-id-1 input.sk-hidden--visually {\n",
              "  border: 0;\n",
              "  clip: rect(1px 1px 1px 1px);\n",
              "  clip: rect(1px, 1px, 1px, 1px);\n",
              "  height: 1px;\n",
              "  margin: -1px;\n",
              "  overflow: hidden;\n",
              "  padding: 0;\n",
              "  position: absolute;\n",
              "  width: 1px;\n",
              "}\n",
              "\n",
              "#sk-container-id-1 div.sk-dashed-wrapped {\n",
              "  border: 1px dashed var(--sklearn-color-line);\n",
              "  margin: 0 0.4em 0.5em 0.4em;\n",
              "  box-sizing: border-box;\n",
              "  padding-bottom: 0.4em;\n",
              "  background-color: var(--sklearn-color-background);\n",
              "}\n",
              "\n",
              "#sk-container-id-1 div.sk-container {\n",
              "  /* jupyter's `normalize.less` sets `[hidden] { display: none; }`\n",
              "     but bootstrap.min.css set `[hidden] { display: none !important; }`\n",
              "     so we also need the `!important` here to be able to override the\n",
              "     default hidden behavior on the sphinx rendered scikit-learn.org.\n",
              "     See: https://github.com/scikit-learn/scikit-learn/issues/21755 */\n",
              "  display: inline-block !important;\n",
              "  position: relative;\n",
              "}\n",
              "\n",
              "#sk-container-id-1 div.sk-text-repr-fallback {\n",
              "  display: none;\n",
              "}\n",
              "\n",
              "div.sk-parallel-item,\n",
              "div.sk-serial,\n",
              "div.sk-item {\n",
              "  /* draw centered vertical line to link estimators */\n",
              "  background-image: linear-gradient(var(--sklearn-color-text-on-default-background), var(--sklearn-color-text-on-default-background));\n",
              "  background-size: 2px 100%;\n",
              "  background-repeat: no-repeat;\n",
              "  background-position: center center;\n",
              "}\n",
              "\n",
              "/* Parallel-specific style estimator block */\n",
              "\n",
              "#sk-container-id-1 div.sk-parallel-item::after {\n",
              "  content: \"\";\n",
              "  width: 100%;\n",
              "  border-bottom: 2px solid var(--sklearn-color-text-on-default-background);\n",
              "  flex-grow: 1;\n",
              "}\n",
              "\n",
              "#sk-container-id-1 div.sk-parallel {\n",
              "  display: flex;\n",
              "  align-items: stretch;\n",
              "  justify-content: center;\n",
              "  background-color: var(--sklearn-color-background);\n",
              "  position: relative;\n",
              "}\n",
              "\n",
              "#sk-container-id-1 div.sk-parallel-item {\n",
              "  display: flex;\n",
              "  flex-direction: column;\n",
              "}\n",
              "\n",
              "#sk-container-id-1 div.sk-parallel-item:first-child::after {\n",
              "  align-self: flex-end;\n",
              "  width: 50%;\n",
              "}\n",
              "\n",
              "#sk-container-id-1 div.sk-parallel-item:last-child::after {\n",
              "  align-self: flex-start;\n",
              "  width: 50%;\n",
              "}\n",
              "\n",
              "#sk-container-id-1 div.sk-parallel-item:only-child::after {\n",
              "  width: 0;\n",
              "}\n",
              "\n",
              "/* Serial-specific style estimator block */\n",
              "\n",
              "#sk-container-id-1 div.sk-serial {\n",
              "  display: flex;\n",
              "  flex-direction: column;\n",
              "  align-items: center;\n",
              "  background-color: var(--sklearn-color-background);\n",
              "  padding-right: 1em;\n",
              "  padding-left: 1em;\n",
              "}\n",
              "\n",
              "\n",
              "/* Toggleable style: style used for estimator/Pipeline/ColumnTransformer box that is\n",
              "clickable and can be expanded/collapsed.\n",
              "- Pipeline and ColumnTransformer use this feature and define the default style\n",
              "- Estimators will overwrite some part of the style using the `sk-estimator` class\n",
              "*/\n",
              "\n",
              "/* Pipeline and ColumnTransformer style (default) */\n",
              "\n",
              "#sk-container-id-1 div.sk-toggleable {\n",
              "  /* Default theme specific background. It is overwritten whether we have a\n",
              "  specific estimator or a Pipeline/ColumnTransformer */\n",
              "  background-color: var(--sklearn-color-background);\n",
              "}\n",
              "\n",
              "/* Toggleable label */\n",
              "#sk-container-id-1 label.sk-toggleable__label {\n",
              "  cursor: pointer;\n",
              "  display: flex;\n",
              "  width: 100%;\n",
              "  margin-bottom: 0;\n",
              "  padding: 0.5em;\n",
              "  box-sizing: border-box;\n",
              "  text-align: center;\n",
              "  align-items: start;\n",
              "  justify-content: space-between;\n",
              "  gap: 0.5em;\n",
              "}\n",
              "\n",
              "#sk-container-id-1 label.sk-toggleable__label .caption {\n",
              "  font-size: 0.6rem;\n",
              "  font-weight: lighter;\n",
              "  color: var(--sklearn-color-text-muted);\n",
              "}\n",
              "\n",
              "#sk-container-id-1 label.sk-toggleable__label-arrow:before {\n",
              "  /* Arrow on the left of the label */\n",
              "  content: \"▸\";\n",
              "  float: left;\n",
              "  margin-right: 0.25em;\n",
              "  color: var(--sklearn-color-icon);\n",
              "}\n",
              "\n",
              "#sk-container-id-1 label.sk-toggleable__label-arrow:hover:before {\n",
              "  color: var(--sklearn-color-text);\n",
              "}\n",
              "\n",
              "/* Toggleable content - dropdown */\n",
              "\n",
              "#sk-container-id-1 div.sk-toggleable__content {\n",
              "  max-height: 0;\n",
              "  max-width: 0;\n",
              "  overflow: hidden;\n",
              "  text-align: left;\n",
              "  /* unfitted */\n",
              "  background-color: var(--sklearn-color-unfitted-level-0);\n",
              "}\n",
              "\n",
              "#sk-container-id-1 div.sk-toggleable__content.fitted {\n",
              "  /* fitted */\n",
              "  background-color: var(--sklearn-color-fitted-level-0);\n",
              "}\n",
              "\n",
              "#sk-container-id-1 div.sk-toggleable__content pre {\n",
              "  margin: 0.2em;\n",
              "  border-radius: 0.25em;\n",
              "  color: var(--sklearn-color-text);\n",
              "  /* unfitted */\n",
              "  background-color: var(--sklearn-color-unfitted-level-0);\n",
              "}\n",
              "\n",
              "#sk-container-id-1 div.sk-toggleable__content.fitted pre {\n",
              "  /* unfitted */\n",
              "  background-color: var(--sklearn-color-fitted-level-0);\n",
              "}\n",
              "\n",
              "#sk-container-id-1 input.sk-toggleable__control:checked~div.sk-toggleable__content {\n",
              "  /* Expand drop-down */\n",
              "  max-height: 200px;\n",
              "  max-width: 100%;\n",
              "  overflow: auto;\n",
              "}\n",
              "\n",
              "#sk-container-id-1 input.sk-toggleable__control:checked~label.sk-toggleable__label-arrow:before {\n",
              "  content: \"▾\";\n",
              "}\n",
              "\n",
              "/* Pipeline/ColumnTransformer-specific style */\n",
              "\n",
              "#sk-container-id-1 div.sk-label input.sk-toggleable__control:checked~label.sk-toggleable__label {\n",
              "  color: var(--sklearn-color-text);\n",
              "  background-color: var(--sklearn-color-unfitted-level-2);\n",
              "}\n",
              "\n",
              "#sk-container-id-1 div.sk-label.fitted input.sk-toggleable__control:checked~label.sk-toggleable__label {\n",
              "  background-color: var(--sklearn-color-fitted-level-2);\n",
              "}\n",
              "\n",
              "/* Estimator-specific style */\n",
              "\n",
              "/* Colorize estimator box */\n",
              "#sk-container-id-1 div.sk-estimator input.sk-toggleable__control:checked~label.sk-toggleable__label {\n",
              "  /* unfitted */\n",
              "  background-color: var(--sklearn-color-unfitted-level-2);\n",
              "}\n",
              "\n",
              "#sk-container-id-1 div.sk-estimator.fitted input.sk-toggleable__control:checked~label.sk-toggleable__label {\n",
              "  /* fitted */\n",
              "  background-color: var(--sklearn-color-fitted-level-2);\n",
              "}\n",
              "\n",
              "#sk-container-id-1 div.sk-label label.sk-toggleable__label,\n",
              "#sk-container-id-1 div.sk-label label {\n",
              "  /* The background is the default theme color */\n",
              "  color: var(--sklearn-color-text-on-default-background);\n",
              "}\n",
              "\n",
              "/* On hover, darken the color of the background */\n",
              "#sk-container-id-1 div.sk-label:hover label.sk-toggleable__label {\n",
              "  color: var(--sklearn-color-text);\n",
              "  background-color: var(--sklearn-color-unfitted-level-2);\n",
              "}\n",
              "\n",
              "/* Label box, darken color on hover, fitted */\n",
              "#sk-container-id-1 div.sk-label.fitted:hover label.sk-toggleable__label.fitted {\n",
              "  color: var(--sklearn-color-text);\n",
              "  background-color: var(--sklearn-color-fitted-level-2);\n",
              "}\n",
              "\n",
              "/* Estimator label */\n",
              "\n",
              "#sk-container-id-1 div.sk-label label {\n",
              "  font-family: monospace;\n",
              "  font-weight: bold;\n",
              "  display: inline-block;\n",
              "  line-height: 1.2em;\n",
              "}\n",
              "\n",
              "#sk-container-id-1 div.sk-label-container {\n",
              "  text-align: center;\n",
              "}\n",
              "\n",
              "/* Estimator-specific */\n",
              "#sk-container-id-1 div.sk-estimator {\n",
              "  font-family: monospace;\n",
              "  border: 1px dotted var(--sklearn-color-border-box);\n",
              "  border-radius: 0.25em;\n",
              "  box-sizing: border-box;\n",
              "  margin-bottom: 0.5em;\n",
              "  /* unfitted */\n",
              "  background-color: var(--sklearn-color-unfitted-level-0);\n",
              "}\n",
              "\n",
              "#sk-container-id-1 div.sk-estimator.fitted {\n",
              "  /* fitted */\n",
              "  background-color: var(--sklearn-color-fitted-level-0);\n",
              "}\n",
              "\n",
              "/* on hover */\n",
              "#sk-container-id-1 div.sk-estimator:hover {\n",
              "  /* unfitted */\n",
              "  background-color: var(--sklearn-color-unfitted-level-2);\n",
              "}\n",
              "\n",
              "#sk-container-id-1 div.sk-estimator.fitted:hover {\n",
              "  /* fitted */\n",
              "  background-color: var(--sklearn-color-fitted-level-2);\n",
              "}\n",
              "\n",
              "/* Specification for estimator info (e.g. \"i\" and \"?\") */\n",
              "\n",
              "/* Common style for \"i\" and \"?\" */\n",
              "\n",
              ".sk-estimator-doc-link,\n",
              "a:link.sk-estimator-doc-link,\n",
              "a:visited.sk-estimator-doc-link {\n",
              "  float: right;\n",
              "  font-size: smaller;\n",
              "  line-height: 1em;\n",
              "  font-family: monospace;\n",
              "  background-color: var(--sklearn-color-background);\n",
              "  border-radius: 1em;\n",
              "  height: 1em;\n",
              "  width: 1em;\n",
              "  text-decoration: none !important;\n",
              "  margin-left: 0.5em;\n",
              "  text-align: center;\n",
              "  /* unfitted */\n",
              "  border: var(--sklearn-color-unfitted-level-1) 1pt solid;\n",
              "  color: var(--sklearn-color-unfitted-level-1);\n",
              "}\n",
              "\n",
              ".sk-estimator-doc-link.fitted,\n",
              "a:link.sk-estimator-doc-link.fitted,\n",
              "a:visited.sk-estimator-doc-link.fitted {\n",
              "  /* fitted */\n",
              "  border: var(--sklearn-color-fitted-level-1) 1pt solid;\n",
              "  color: var(--sklearn-color-fitted-level-1);\n",
              "}\n",
              "\n",
              "/* On hover */\n",
              "div.sk-estimator:hover .sk-estimator-doc-link:hover,\n",
              ".sk-estimator-doc-link:hover,\n",
              "div.sk-label-container:hover .sk-estimator-doc-link:hover,\n",
              ".sk-estimator-doc-link:hover {\n",
              "  /* unfitted */\n",
              "  background-color: var(--sklearn-color-unfitted-level-3);\n",
              "  color: var(--sklearn-color-background);\n",
              "  text-decoration: none;\n",
              "}\n",
              "\n",
              "div.sk-estimator.fitted:hover .sk-estimator-doc-link.fitted:hover,\n",
              ".sk-estimator-doc-link.fitted:hover,\n",
              "div.sk-label-container:hover .sk-estimator-doc-link.fitted:hover,\n",
              ".sk-estimator-doc-link.fitted:hover {\n",
              "  /* fitted */\n",
              "  background-color: var(--sklearn-color-fitted-level-3);\n",
              "  color: var(--sklearn-color-background);\n",
              "  text-decoration: none;\n",
              "}\n",
              "\n",
              "/* Span, style for the box shown on hovering the info icon */\n",
              ".sk-estimator-doc-link span {\n",
              "  display: none;\n",
              "  z-index: 9999;\n",
              "  position: relative;\n",
              "  font-weight: normal;\n",
              "  right: .2ex;\n",
              "  padding: .5ex;\n",
              "  margin: .5ex;\n",
              "  width: min-content;\n",
              "  min-width: 20ex;\n",
              "  max-width: 50ex;\n",
              "  color: var(--sklearn-color-text);\n",
              "  box-shadow: 2pt 2pt 4pt #999;\n",
              "  /* unfitted */\n",
              "  background: var(--sklearn-color-unfitted-level-0);\n",
              "  border: .5pt solid var(--sklearn-color-unfitted-level-3);\n",
              "}\n",
              "\n",
              ".sk-estimator-doc-link.fitted span {\n",
              "  /* fitted */\n",
              "  background: var(--sklearn-color-fitted-level-0);\n",
              "  border: var(--sklearn-color-fitted-level-3);\n",
              "}\n",
              "\n",
              ".sk-estimator-doc-link:hover span {\n",
              "  display: block;\n",
              "}\n",
              "\n",
              "/* \"?\"-specific style due to the `<a>` HTML tag */\n",
              "\n",
              "#sk-container-id-1 a.estimator_doc_link {\n",
              "  float: right;\n",
              "  font-size: 1rem;\n",
              "  line-height: 1em;\n",
              "  font-family: monospace;\n",
              "  background-color: var(--sklearn-color-background);\n",
              "  border-radius: 1rem;\n",
              "  height: 1rem;\n",
              "  width: 1rem;\n",
              "  text-decoration: none;\n",
              "  /* unfitted */\n",
              "  color: var(--sklearn-color-unfitted-level-1);\n",
              "  border: var(--sklearn-color-unfitted-level-1) 1pt solid;\n",
              "}\n",
              "\n",
              "#sk-container-id-1 a.estimator_doc_link.fitted {\n",
              "  /* fitted */\n",
              "  border: var(--sklearn-color-fitted-level-1) 1pt solid;\n",
              "  color: var(--sklearn-color-fitted-level-1);\n",
              "}\n",
              "\n",
              "/* On hover */\n",
              "#sk-container-id-1 a.estimator_doc_link:hover {\n",
              "  /* unfitted */\n",
              "  background-color: var(--sklearn-color-unfitted-level-3);\n",
              "  color: var(--sklearn-color-background);\n",
              "  text-decoration: none;\n",
              "}\n",
              "\n",
              "#sk-container-id-1 a.estimator_doc_link.fitted:hover {\n",
              "  /* fitted */\n",
              "  background-color: var(--sklearn-color-fitted-level-3);\n",
              "}\n",
              "</style><div id=\"sk-container-id-1\" class=\"sk-top-container\"><div class=\"sk-text-repr-fallback\"><pre>IsolationForest(contamination=0.01, random_state=42)</pre><b>In a Jupyter environment, please rerun this cell to show the HTML representation or trust the notebook. <br />On GitHub, the HTML representation is unable to render, please try loading this page with nbviewer.org.</b></div><div class=\"sk-container\" hidden><div class=\"sk-item\"><div class=\"sk-estimator fitted sk-toggleable\"><input class=\"sk-toggleable__control sk-hidden--visually\" id=\"sk-estimator-id-1\" type=\"checkbox\" checked><label for=\"sk-estimator-id-1\" class=\"sk-toggleable__label fitted sk-toggleable__label-arrow\"><div><div>IsolationForest</div></div><div><a class=\"sk-estimator-doc-link fitted\" rel=\"noreferrer\" target=\"_blank\" href=\"https://scikit-learn.org/1.6/modules/generated/sklearn.ensemble.IsolationForest.html\">?<span>Documentation for IsolationForest</span></a><span class=\"sk-estimator-doc-link fitted\">i<span>Fitted</span></span></div></label><div class=\"sk-toggleable__content fitted\"><pre>IsolationForest(contamination=0.01, random_state=42)</pre></div> </div></div></div></div>"
            ]
          },
          "metadata": {},
          "execution_count": 11
        }
      ],
      "source": [
        "  clf = IsolationForest(contamination=0.01, random_state=42)\n",
        "  clf.fit(array_data.numpy().reshape(-1, 1))"
      ]
    },
    {
      "cell_type": "markdown",
      "metadata": {
        "id": "-I7UlPhWQc7l"
      },
      "source": [
        "Get anomaly scores and predictions for non-mutated data"
      ]
    },
    {
      "cell_type": "code",
      "execution_count": 12,
      "metadata": {
        "id": "Toh8xlhQQc7l",
        "outputId": "6a2dcbc9-2f7b-4802-d372-72268dd2d23c",
        "colab": {
          "base_uri": "https://localhost:8080/"
        }
      },
      "outputs": [
        {
          "output_type": "stream",
          "name": "stdout",
          "text": [
            "Shape of mutated_sequences_batch: (1000, 1, 410000)\n",
            "Shape of mutated_sequences_with_anomalies: (1000, 1, 410000)\n"
          ]
        }
      ],
      "source": [
        "mutated_sequences_batch = next(iter(mutated_sequences))  # Extract a single batch of data\n",
        "print(f\"Shape of mutated_sequences_batch: {mutated_sequences_batch.shape}\")\n",
        "\n",
        "# Get batch size and sequence length\n",
        "mutated_sequences_batch_size = tf.shape(mutated_sequences_batch)[0]\n",
        "sequence_length = tf.shape(mutated_sequences_batch)[1]  # Assuming second dimension is the sequence length\n",
        "\n",
        "# Check that there are at least 3 dimensions\n",
        "if len(mutated_sequences_batch.shape) < 3:\n",
        "    raise ValueError(\"mutated_sequences_batch does not have 3 dimensions as expected!\")\n",
        "\n",
        "# Ensure the anomaly scores are reshaped properly\n",
        "anomaly_scores_reshaped = tf.reshape(anomaly_scores[:mutated_sequences_batch_size], [-1, 1, 1])\n",
        "\n",
        "# Apply anomaly scores to the mutated sequences\n",
        "mutated_sequences_with_anomalies = tf.identity(mutated_sequences_batch)\n",
        "\n",
        "# Assuming that the last index is where the anomaly score should be inserted\n",
        "if sequence_length < 1:\n",
        "    raise ValueError(\"Sequence length is less than 1, cannot apply anomaly scores.\")\n",
        "\n",
        "# Adjust tensor scatter logic based on the number of dimensions\n",
        "mutated_sequences_with_anomalies = tf.tensor_scatter_nd_update(\n",
        "    mutated_sequences_with_anomalies,\n",
        "    [[i, 0, sequence_length - 1] for i in range(mutated_sequences_batch_size)],  # Last element in sequence\n",
        "    tf.reshape(anomaly_scores_reshaped, [-1])  # Flatten the anomaly scores to match the scatter update\n",
        ")\n",
        "\n",
        "# Now mutated_sequences_with_anomalies contains the sequences with applied anomaly scores\n",
        "print(f\"Shape of mutated_sequences_with_anomalies: {mutated_sequences_with_anomalies.shape}\")"
      ]
    },
    {
      "cell_type": "markdown",
      "metadata": {
        "id": "g5GmeJklQc7m"
      },
      "source": [
        "Concatenate the mutated and non-mutated sequences (with anomalies added to mutated)"
      ]
    },
    {
      "cell_type": "code",
      "execution_count": null,
      "metadata": {
        "id": "OqxP6tycQc7m"
      },
      "outputs": [],
      "source": [
        "X_with_anomalies = tf.concat([mutated_sequences_with_anomalies, nonmutated_sequences], axis=0)\n",
        "y = tf.concat([mutated_labels, nonmutated_labels], axis=0)\n",
        "\n",
        "x_train, x_val, y_train, y_val = train_test_split(X_with_anomalies.numpy(), y.numpy(), test_size=0.1, random_state=42, stratify=y.numpy())\n",
        "x_train, x_test, y_train, y_test = train_test_split(x_train, y_train, test_size=0.1, random_state=42, stratify=y_train)\n"
      ]
    },
    {
      "cell_type": "markdown",
      "metadata": {
        "id": "feTxpb44Qc7m"
      },
      "source": [
        "RNN Model"
      ]
    },
    {
      "cell_type": "code",
      "execution_count": null,
      "metadata": {
        "id": "R4Z2pPqnQc7m"
      },
      "outputs": [],
      "source": [
        "def rnn_model(input_shape):\n",
        "    model = Sequential([\n",
        "        LSTM(32, input_shape=input_shape, return_sequences=False, activation=\"relu\"),\n",
        "        Dropout(0.5),\n",
        "        Dense(1, activation='sigmoid', kernel_regularizer=tf.keras.regularizers.l2(0.01))\n",
        "    ])\n",
        "    model.compile(optimizer=tf.keras.optimizers.AdamW(), loss='binary_crossentropy', metrics=['accuracy'])\n",
        "    return model"
      ]
    },
    {
      "cell_type": "code",
      "execution_count": null,
      "metadata": {
        "id": "_vug8AfrQc7m"
      },
      "outputs": [],
      "source": [
        "def reset_rnn(input_shape):\n",
        "    # Recreate the model to reset weights\n",
        "    model = rnn_model(input_shape)\n",
        "    return model"
      ]
    },
    {
      "cell_type": "markdown",
      "metadata": {
        "id": "kcbBuiapQc7m"
      },
      "source": [
        "Plotting function"
      ]
    },
    {
      "cell_type": "code",
      "execution_count": null,
      "metadata": {
        "id": "LFLJQPeSQc7q"
      },
      "outputs": [],
      "source": [
        "def plot_learning_curve(history, save_path):\n",
        "    # Extract training and validation loss (or accuracy)\n",
        "    training_loss = history.history['loss']\n",
        "    validation_loss = history.history['val_loss']\n",
        "    training_acc = history.history['accuracy']\n",
        "    validation_acc = history.history['val_accuracy']\n",
        "    epochs = range(1, len(training_loss) + 1)\n",
        "\n",
        "    # Plot loss curves\n",
        "    plt.figure(figsize=(12, 6))\n",
        "\n",
        "    # Loss plot\n",
        "    plt.subplot(1, 2, 1)\n",
        "    plt.plot(epochs, training_loss, label='Training Loss')\n",
        "    plt.plot(epochs, validation_loss, label='Validation Loss')\n",
        "    plt.title('Loss Curve')\n",
        "    plt.xlabel('Epochs')\n",
        "    plt.ylabel('Loss')\n",
        "    plt.legend()\n",
        "\n",
        "    # Accuracy plot\n",
        "    plt.subplot(1, 2, 2)\n",
        "    plt.plot(epochs, training_acc, label='Training Accuracy')\n",
        "    plt.plot(epochs, validation_acc, label='Validation Accuracy')\n",
        "    plt.title('Accuracy Curve')\n",
        "    plt.xlabel('Epochs')\n",
        "    plt.ylabel('Accuracy')\n",
        "    plt.legend()\n",
        "    plt.tight_layout()\n",
        "    plt.savefig(save_path)"
      ]
    },
    {
      "cell_type": "markdown",
      "metadata": {
        "id": "RAugG9NjQc7q"
      },
      "source": [
        "Reset model"
      ]
    },
    {
      "cell_type": "code",
      "execution_count": null,
      "metadata": {
        "id": "uZLbWioKQc7q"
      },
      "outputs": [],
      "source": [
        "model = reset_rnn(input_shape)"
      ]
    },
    {
      "cell_type": "markdown",
      "metadata": {
        "id": "yQcWTJbnQc7q"
      },
      "source": [
        "Checkpoints and logging"
      ]
    },
    {
      "cell_type": "code",
      "execution_count": null,
      "metadata": {
        "id": "Y0RJcDNcQc7q"
      },
      "outputs": [],
      "source": [
        "checkpoint = ModelCheckpoint(checkpoint_path, monitor=\"val_loss\", save_best_only=True, mode=\"min\")\n",
        "csv_log = CSVLogger(\"training_log_new_7000_if.csv\", append=True)"
      ]
    },
    {
      "cell_type": "markdown",
      "metadata": {
        "id": "ss9sIuP5Qc7q"
      },
      "source": [
        "Fit the model"
      ]
    },
    {
      "cell_type": "code",
      "execution_count": null,
      "metadata": {
        "id": "tnBGhTI0Qc7q"
      },
      "outputs": [],
      "source": [
        "rnn_fit = model.fit(x_train, y_train, batch_size=16, epochs=20, verbose=1, validation_data=(x_test, y_test), callbacks=[csv_log, checkpoint])"
      ]
    },
    {
      "cell_type": "markdown",
      "metadata": {
        "id": "w5fiBMzDQc7r"
      },
      "source": [
        "Evaluate the model"
      ]
    },
    {
      "cell_type": "code",
      "execution_count": null,
      "metadata": {
        "id": "460wFmC4Qc7r"
      },
      "outputs": [],
      "source": [
        "loss, accuracy = model.evaluate(x_test, y_test)\n",
        "print(f\"Test Accuracy: {accuracy:.4f}\")"
      ]
    },
    {
      "cell_type": "markdown",
      "metadata": {
        "id": "bX3SrCo0Qc7r"
      },
      "source": [
        "Predictions"
      ]
    },
    {
      "cell_type": "code",
      "execution_count": null,
      "metadata": {
        "id": "57HjQF1oQc7r"
      },
      "outputs": [],
      "source": [
        "predictions = model.predict(x_test).flatten()\n",
        "print(\"\\nðŸ”¹ First 10 Predictions vs Actual Values ðŸ”¹\")\n",
        "for i in range(10):\n",
        "    print(f\"Sample {i+1}: Actual = {y_test[i]}, Predicted Probability = {predictions[i]:.4f}\")"
      ]
    },
    {
      "cell_type": "markdown",
      "metadata": {
        "id": "bWgtNkELQc7r"
      },
      "source": [
        "Save plots"
      ]
    },
    {
      "cell_type": "code",
      "execution_count": null,
      "metadata": {
        "id": "LkamU7kdQc7r"
      },
      "outputs": [],
      "source": [
        "os.makedirs(save_path, exist_ok=True)"
      ]
    },
    {
      "cell_type": "markdown",
      "metadata": {
        "id": "JW9OZ7QtQc7r"
      },
      "source": [
        "Histogram of predictions"
      ]
    },
    {
      "cell_type": "code",
      "execution_count": null,
      "metadata": {
        "id": "wKLjHX8KQc7r"
      },
      "outputs": [],
      "source": [
        "plt.figure(figsize=(14, 10))\n",
        "plt.hist(predictions, bins=20, edgecolor='black', alpha=0.7)\n",
        "plt.xlabel(\"Predicted Probability\")\n",
        "plt.ylabel(\"Count\")\n",
        "plt.title(\"Distribution of Predicted Probabilities\")\n",
        "plt.savefig(save_path + \"histogram_predictions.png\")\n",
        "plt.show()"
      ]
    },
    {
      "cell_type": "markdown",
      "metadata": {
        "id": "4zkDDvDYQc7r"
      },
      "source": [
        "Calculate the ROC curve and AUC"
      ]
    },
    {
      "cell_type": "code",
      "execution_count": null,
      "metadata": {
        "id": "sQ1MSUmQQc7s"
      },
      "outputs": [],
      "source": [
        "fpr, tpr, thresholds = roc_curve(y_test, predictions)\n",
        "roc_auc = roc_auc_score(y_test, predictions)"
      ]
    },
    {
      "cell_type": "markdown",
      "metadata": {
        "id": "LWVRg52cQc7s"
      },
      "source": [
        "Plot ROC curve"
      ]
    },
    {
      "cell_type": "code",
      "execution_count": null,
      "metadata": {
        "id": "QP7GCP1dQc7s"
      },
      "outputs": [],
      "source": [
        "plt.figure(figsize=(8, 6))\n",
        "plt.plot(fpr, tpr, color='blue', label=f'ROC curve (AUC = {roc_auc:.4f})')\n",
        "plt.plot([0, 1], [0, 1], color='gray', linestyle='--')\n",
        "plt.xlabel('False Positive Rate')\n",
        "plt.ylabel('True Positive Rate')\n",
        "plt.title('ROC Curve')\n",
        "plt.legend(loc='lower right')\n",
        "plt.savefig(save_path + \"7000_new_if_roc_curve.png\")"
      ]
    },
    {
      "cell_type": "code",
      "execution_count": null,
      "metadata": {
        "id": "vDVz0KGHQc7s"
      },
      "outputs": [],
      "source": [
        "print(f\"Area Under the Curve (AUC): {roc_auc:.4f}\")"
      ]
    },
    {
      "cell_type": "markdown",
      "metadata": {
        "id": "dMVH4r8BQc7s"
      },
      "source": [
        "Classification report"
      ]
    },
    {
      "cell_type": "code",
      "execution_count": null,
      "metadata": {
        "id": "rJQDdFlbQc7s"
      },
      "outputs": [],
      "source": [
        "report = classification_report(y_test, (predictions > 0.5).astype(int))\n",
        "print(\"\\nClassification Report:\" + report)\n",
        "report = classification_report(y_test, (predictions > 0.5).astype(int), output_dict=True)"
      ]
    },
    {
      "cell_type": "markdown",
      "metadata": {
        "id": "8gylJHe3Qc7s"
      },
      "source": [
        "Convert the dictionary into a DataFrame and transpose it"
      ]
    },
    {
      "cell_type": "code",
      "execution_count": null,
      "metadata": {
        "id": "QWEzFpicQc7s"
      },
      "outputs": [],
      "source": [
        "report_df = pd.DataFrame(report).transpose()"
      ]
    },
    {
      "cell_type": "markdown",
      "metadata": {
        "id": "RNGI5bZaQc7s"
      },
      "source": [
        "Save the report to a CSV file"
      ]
    },
    {
      "cell_type": "code",
      "execution_count": null,
      "metadata": {
        "id": "dZzw2mZqQc7s"
      },
      "outputs": [],
      "source": [
        "report_df.to_csv(\"7000_new_if_classification_report.csv\")"
      ]
    },
    {
      "cell_type": "markdown",
      "metadata": {
        "id": "k6djDQ9gQc7s"
      },
      "source": [
        "Plot learning curves"
      ]
    },
    {
      "cell_type": "code",
      "execution_count": null,
      "metadata": {
        "id": "1ceb5uuDQc7t"
      },
      "outputs": [],
      "source": [
        "plot_learning_curve(rnn_fit, save_path=\"7000_new_if_learning_curve\")"
      ]
    }
  ],
  "metadata": {
    "kernelspec": {
      "display_name": "Python 3",
      "name": "python3"
    },
    "language_info": {
      "codemirror_mode": {
        "name": "ipython",
        "version": 3
      },
      "file_extension": ".py",
      "mimetype": "text/x-python",
      "name": "python",
      "nbconvert_exporter": "python",
      "pygments_lexer": "ipython3",
      "version": "3.6.4"
    },
    "colab": {
      "provenance": [],
      "machine_shape": "hm",
      "gpuType": "A100"
    },
    "accelerator": "GPU"
  },
  "nbformat": 4,
  "nbformat_minor": 0
}